{
 "cells": [
  {
   "cell_type": "markdown",
   "metadata": {},
   "source": [
    "1. Write a Python program to find the factorial of a number using recursion."
   ]
  },
  {
   "cell_type": "code",
   "execution_count": 1,
   "metadata": {},
   "outputs": [
    {
     "name": "stdout",
     "output_type": "stream",
     "text": [
      " 5\n"
     ]
    },
    {
     "data": {
      "text/plain": [
       "120"
      ]
     },
     "execution_count": 1,
     "metadata": {},
     "output_type": "execute_result"
    }
   ],
   "source": [
    "def factorial(n) :\n",
    "    if n == 0 :\n",
    "        return 1\n",
    "    return n * factorial(n - 1)\n",
    "\n",
    "n = int(input())\n",
    "factorial(n)"
   ]
  },
  {
   "cell_type": "markdown",
   "metadata": {},
   "source": [
    "2. Write a Python program to find Anagram Check."
   ]
  },
  {
   "cell_type": "code",
   "execution_count": 2,
   "metadata": {},
   "outputs": [
    {
     "name": "stdout",
     "output_type": "stream",
     "text": [
      " listen\n",
      " silent\n"
     ]
    },
    {
     "name": "stdout",
     "output_type": "stream",
     "text": [
      "Anagram\n"
     ]
    }
   ],
   "source": [
    "def isAnagram(str1, str2) :\n",
    "    str1 = str1.replace(' ', '').lower()\n",
    "    str2 = str2.replace(' ', '').lower()\n",
    "    return sorted(str1) == sorted(str2)\n",
    "\n",
    "str1 = input()\n",
    "str2 = input()\n",
    "print(\"Anagram\" if isAnagram(str1, str2) else \"Not Anagram\")"
   ]
  },
  {
   "cell_type": "markdown",
   "metadata": {},
   "source": [
    "3. Write a Python program using a for loop that:\n",
    "   i. Prints the multiplication table for a given number ‘n’.\n",
    "   ii. Calculates the factorial of a given number."
   ]
  },
  {
   "cell_type": "code",
   "execution_count": 7,
   "metadata": {},
   "outputs": [
    {
     "name": "stdout",
     "output_type": "stream",
     "text": [
      " 5\n"
     ]
    },
    {
     "name": "stdout",
     "output_type": "stream",
     "text": [
      "5 * 1 =  5\n",
      "5 * 2 =  10\n",
      "5 * 3 =  15\n",
      "5 * 4 =  20\n",
      "5 * 5 =  25\n",
      "5 * 6 =  30\n",
      "5 * 7 =  35\n",
      "5 * 8 =  40\n",
      "5 * 9 =  45\n",
      "5 * 10 =  50\n",
      "Factorial of 5 = 120\n"
     ]
    }
   ],
   "source": [
    "import math\n",
    "# i\n",
    "n = int(input())\n",
    "for i in range(1, 11) :\n",
    "    print(f'{n} * {i} =  {i * n}')\n",
    "\n",
    "# ii\n",
    "print(f'Factorial of {n} = {math.factorial(n)}')"
   ]
  },
  {
   "cell_type": "markdown",
   "metadata": {},
   "source": [
    "4. You are given a list of positive integers containing all numbers from 1 to n except one missing\n",
    "\n",
    "value x. Write a Python program to find the missing value x in the list."
   ]
  },
  {
   "cell_type": "code",
   "execution_count": 19,
   "metadata": {},
   "outputs": [
    {
     "name": "stdout",
     "output_type": "stream",
     "text": [
      " 4\n",
      " 1 2 3\n"
     ]
    },
    {
     "data": {
      "text/plain": [
       "4"
      ]
     },
     "execution_count": 19,
     "metadata": {},
     "output_type": "execute_result"
    }
   ],
   "source": [
    "n = int(input())\n",
    "L = list(map(int, input().split()))\n",
    "x = (n * (n + 1)) // 2\n",
    "x -= sum(L)\n",
    "x"
   ]
  },
  {
   "cell_type": "markdown",
   "metadata": {},
   "source": [
    "5. Write a Python program to Count Words in a Sentence."
   ]
  },
  {
   "cell_type": "code",
   "execution_count": 28,
   "metadata": {},
   "outputs": [
    {
     "name": "stdin",
     "output_type": "stream",
     "text": [
      "  a b c  \n"
     ]
    },
    {
     "data": {
      "text/plain": [
       "3"
      ]
     },
     "execution_count": 28,
     "metadata": {},
     "output_type": "execute_result"
    }
   ],
   "source": [
    "str = input()\n",
    "cnt = 0\n",
    "s = str.strip()\n",
    "for i in s :\n",
    "    if i == ' ' :\n",
    "        cnt += 1\n",
    "\n",
    "cnt + 1"
   ]
  },
  {
   "cell_type": "markdown",
   "metadata": {},
   "source": [
    "6.\n",
    "i. Define a function check_odd_even(n) that takes n as input and checks if it is even or odd.\n",
    "ii. Define a function fibonacci(n) that takes n as input and prints the n-th Fibonacci number."
   ]
  },
  {
   "cell_type": "code",
   "execution_count": 77,
   "metadata": {},
   "outputs": [
    {
     "name": "stdout",
     "output_type": "stream",
     "text": [
      "5 is Odd\n",
      "10 is Even\n"
     ]
    }
   ],
   "source": [
    "# i\n",
    "def check_odd_even(n):\n",
    "    if n % 2 == 0:\n",
    "        print(f\"{n} is Even\")\n",
    "    else:\n",
    "        print(f\"{n} is Odd\")\n",
    "\n",
    "check_odd_even(5)  # Output: 5 is Odd\n",
    "check_odd_even(10) # Output: 10 is Even\n"
   ]
  },
  {
   "cell_type": "code",
   "execution_count": 80,
   "metadata": {},
   "outputs": [
    {
     "name": "stdout",
     "output_type": "stream",
     "text": [
      "3\n",
      "34\n"
     ]
    }
   ],
   "source": [
    "# ii\n",
    "\n",
    "def fibonacci(n) :\n",
    "    if n == 0 :\n",
    "        return 0\n",
    "    elif n == 1 :\n",
    "        return 1\n",
    "    a, b = 0, 1\n",
    "    for i in range(2, n) :\n",
    "        a, b = b, a + b\n",
    "    return b\n",
    "\n",
    "print(fibonacci(5))\n",
    "print(fibonacci(10))"
   ]
  },
  {
   "cell_type": "markdown",
   "metadata": {},
   "source": [
    "7. Write a program using the ternary operator where,\n",
    "i. Given an age, determine the category of the age (i.e., child, teenager, adult).\n",
    "ii. Check if a given number is positive, negative, or zero."
   ]
  },
  {
   "cell_type": "code",
   "execution_count": 83,
   "metadata": {},
   "outputs": [
    {
     "name": "stdout",
     "output_type": "stream",
     "text": [
      "child\n",
      "teenager\n",
      "adult\n",
      "\n",
      "\n",
      "negative\n",
      "zero\n",
      "positive\n"
     ]
    }
   ],
   "source": [
    "# i\n",
    "def solve_i(n) :\n",
    "    return 'child' if n < 13 else 'teenager' if n < 18 else 'adult'\n",
    "\n",
    "print(solve_i(12))\n",
    "print(solve_i(15))\n",
    "print(solve_i(22))\n",
    "\n",
    "print('\\n')\n",
    "\n",
    "# ii\n",
    "def solve_ii(n) :\n",
    "    return 'positive' if n > 0 else 'zero' if n == 0 else 'negative'\n",
    "\n",
    "print(solve_ii(-1))\n",
    "print(solve_ii(0))\n",
    "print(solve_ii(1))"
   ]
  },
  {
   "cell_type": "markdown",
   "metadata": {},
   "source": [
    "8. Given a dictionary of product prices:\n",
    "prices = { 'apple': 30, 'banana': 10, 'orange': 60, 'grape': 55, 'mango': 20}\n",
    "Write a Python program to\n",
    "i. Change the pricing of a product.\n",
    "ii. Add a new product to the inventory with its price.\n",
    "iii. Determine and print whether each product is \"Expensive\" or \"Affordable\"."
   ]
  },
  {
   "cell_type": "code",
   "execution_count": 87,
   "metadata": {},
   "outputs": [
    {
     "name": "stdout",
     "output_type": "stream",
     "text": [
      "mango : 48\n",
      "cherry : 65\n",
      "apple : affordable\n",
      "banana : affordable\n",
      "orange : expensive\n",
      "grape : expensive\n",
      "mango : affordable\n",
      "cherry : expensive\n"
     ]
    }
   ],
   "source": [
    "prices = { 'apple': 30, 'banana': 10, 'orange': 60, 'grape': 55, 'mango': 20}\n",
    "\n",
    "def change_price(product, new_price) :\n",
    "  if product in prices :\n",
    "    prices[product] = new_price\n",
    "    print(f\"{product} : {new_price}\")\n",
    "  else :\n",
    "    print(f\"{product} not found\")\n",
    "\n",
    "def add_new_product(product, price) :\n",
    "  if product not in prices :\n",
    "    prices[product] = price\n",
    "    print(f\"{product} : {price}\")\n",
    "  else :\n",
    "    print(f\"{product} already exists)\")\n",
    "\n",
    "def checking() :\n",
    "  for key, i in prices.items() :\n",
    "    if i < 50 :\n",
    "      x = \"affordable\"\n",
    "    else :\n",
    "      x = \"expensive\"\n",
    "    print(f\"{key} : {x}\")\n",
    "\n",
    "\n",
    "change_price(\"mango\", 48)\n",
    "add_new_product(\"cherry\", 65)\n",
    "checking()"
   ]
  },
  {
   "cell_type": "markdown",
   "metadata": {},
   "source": [
    "9. Write a Python program to check if a given number is a perfect number. A perfect number is a\n",
    "positive integer that is equal to the sum of its proper divisors (excluding itself)."
   ]
  },
  {
   "cell_type": "code",
   "execution_count": 102,
   "metadata": {},
   "outputs": [
    {
     "name": "stdout",
     "output_type": "stream",
     "text": [
      "Not a perfect number\n",
      "Perfect number\n"
     ]
    }
   ],
   "source": [
    "\n",
    "def div(n) :\n",
    "    temp = 0\n",
    "    for i in range(1, int(n ** 0.5) + 1) :\n",
    "        if n % i == 0 :\n",
    "            temp += i\n",
    "            if i != n // i :\n",
    "                temp += (n // i)\n",
    "    return (temp - n)\n",
    "\n",
    "x = div(10)\n",
    "print(\"Perfect number\" if x == n else \"Not a perfect number\")\n",
    "\n",
    "x = div(28)\n",
    "print(\"Perfect number\" if x == n else \"Not a perfect number\")"
   ]
  },
  {
   "cell_type": "markdown",
   "metadata": {},
   "source": [
    "10. Write a Python program to find the maximum difference between two elements in a given\n",
    "list."
   ]
  },
  {
   "cell_type": "code",
   "execution_count": 103,
   "metadata": {},
   "outputs": [
    {
     "name": "stdout",
     "output_type": "stream",
     "text": [
      "7\n"
     ]
    }
   ],
   "source": [
    "L = [1, 2, 3, 4, 5, 6, 7, 8]\n",
    "print(max(L) - min(L))"
   ]
  },
  {
   "cell_type": "markdown",
   "metadata": {},
   "source": [
    "11. write a Python program using list comprehension to create a new list that contains the squares\n",
    "of the numbers that are divisible by 3 but not by 5. Then, print the resulting list."
   ]
  },
  {
   "cell_type": "code",
   "execution_count": 107,
   "metadata": {},
   "outputs": [
    {
     "data": {
      "text/plain": [
       "[1, 4, 1936]"
      ]
     },
     "execution_count": 107,
     "metadata": {},
     "output_type": "execute_result"
    }
   ],
   "source": [
    "L = [1, 2, 9, 25, 44]\n",
    "ans = []\n",
    "for i in L :\n",
    "    sq = i ** 2\n",
    "    if (sq % 5 != 0) and (sq % 3 != 0) :\n",
    "        ans.append(sq)\n",
    "ans"
   ]
  }
 ],
 "metadata": {
  "kernelspec": {
   "display_name": "Python 3 (ipykernel)",
   "language": "python",
   "name": "python3"
  },
  "language_info": {
   "codemirror_mode": {
    "name": "ipython",
    "version": 3
   },
   "file_extension": ".py",
   "mimetype": "text/x-python",
   "name": "python",
   "nbconvert_exporter": "python",
   "pygments_lexer": "ipython3",
   "version": "3.12.5"
  }
 },
 "nbformat": 4,
 "nbformat_minor": 4
}
