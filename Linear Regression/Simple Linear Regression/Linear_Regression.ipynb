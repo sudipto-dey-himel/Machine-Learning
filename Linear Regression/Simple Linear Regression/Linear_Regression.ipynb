{
 "cells": [
  {
   "cell_type": "markdown",
   "id": "4fed48da-468c-4a99-a03b-02905095f8d9",
   "metadata": {
    "id": "4fed48da-468c-4a99-a03b-02905095f8d9"
   },
   "source": [
    "# ***Linear Regression***\n",
    "###### **Def:** Linear Regression is a statistical technique used to predict a continuous outcome variable by finding the best-fit straight line through a set of data point."
   ]
  },
  {
   "cell_type": "markdown",
   "id": "XHnVAXqWO-b9",
   "metadata": {
    "id": "XHnVAXqWO-b9"
   },
   "source": [
    "Import Libraries"
   ]
  },
  {
   "cell_type": "code",
   "execution_count": 1,
   "id": "368e82e6-d06e-46b3-a2f4-05a290a1760d",
   "metadata": {
    "executionInfo": {
     "elapsed": 706,
     "status": "ok",
     "timestamp": 1739627791075,
     "user": {
      "displayName": "Sudipto Dey Himel (222-115-201)",
      "userId": "06301295033781781722"
     },
     "user_tz": -360
    },
    "id": "368e82e6-d06e-46b3-a2f4-05a290a1760d"
   },
   "outputs": [],
   "source": [
    "import pandas as pd\n",
    "import numpy as np\n",
    "import matplotlib.pyplot as plt"
   ]
  },
  {
   "cell_type": "markdown",
   "id": "CNdidwFWPC8c",
   "metadata": {
    "id": "CNdidwFWPC8c"
   },
   "source": [
    "Import csv file"
   ]
  },
  {
   "cell_type": "code",
   "execution_count": 2,
   "id": "aab682da-96e5-4e26-bb5a-ea51505b6707",
   "metadata": {
    "colab": {
     "base_uri": "https://localhost:8080/",
     "height": 425
    },
    "executionInfo": {
     "elapsed": 951,
     "status": "ok",
     "timestamp": 1739627794838,
     "user": {
      "displayName": "Sudipto Dey Himel (222-115-201)",
      "userId": "06301295033781781722"
     },
     "user_tz": -360
    },
    "id": "aab682da-96e5-4e26-bb5a-ea51505b6707",
    "outputId": "3e40ad3b-c181-4d30-903e-ac0535c41deb"
   },
   "outputs": [
    {
     "data": {
      "text/html": [
       "<div>\n",
       "<style scoped>\n",
       "    .dataframe tbody tr th:only-of-type {\n",
       "        vertical-align: middle;\n",
       "    }\n",
       "\n",
       "    .dataframe tbody tr th {\n",
       "        vertical-align: top;\n",
       "    }\n",
       "\n",
       "    .dataframe thead th {\n",
       "        text-align: right;\n",
       "    }\n",
       "</style>\n",
       "<table border=\"1\" class=\"dataframe\">\n",
       "  <thead>\n",
       "    <tr style=\"text-align: right;\">\n",
       "      <th></th>\n",
       "      <th>Date</th>\n",
       "      <th>Starting (USD)</th>\n",
       "      <th>Ending (USD)</th>\n",
       "    </tr>\n",
       "  </thead>\n",
       "  <tbody>\n",
       "    <tr>\n",
       "      <th>0</th>\n",
       "      <td>01.01.24</td>\n",
       "      <td>16800</td>\n",
       "      <td>16500</td>\n",
       "    </tr>\n",
       "    <tr>\n",
       "      <th>1</th>\n",
       "      <td>01.12.23</td>\n",
       "      <td>15900</td>\n",
       "      <td>16100</td>\n",
       "    </tr>\n",
       "    <tr>\n",
       "      <th>2</th>\n",
       "      <td>01.11.23</td>\n",
       "      <td>15800</td>\n",
       "      <td>15300</td>\n",
       "    </tr>\n",
       "    <tr>\n",
       "      <th>3</th>\n",
       "      <td>01.10.23</td>\n",
       "      <td>16100</td>\n",
       "      <td>16200</td>\n",
       "    </tr>\n",
       "    <tr>\n",
       "      <th>4</th>\n",
       "      <td>01.09.23</td>\n",
       "      <td>16300</td>\n",
       "      <td>15700</td>\n",
       "    </tr>\n",
       "    <tr>\n",
       "      <th>5</th>\n",
       "      <td>01.08.23</td>\n",
       "      <td>16800</td>\n",
       "      <td>16400</td>\n",
       "    </tr>\n",
       "    <tr>\n",
       "      <th>6</th>\n",
       "      <td>01.07.23</td>\n",
       "      <td>15900</td>\n",
       "      <td>16200</td>\n",
       "    </tr>\n",
       "    <tr>\n",
       "      <th>7</th>\n",
       "      <td>01.06.23</td>\n",
       "      <td>15800</td>\n",
       "      <td>15500</td>\n",
       "    </tr>\n",
       "    <tr>\n",
       "      <th>8</th>\n",
       "      <td>01.05.23</td>\n",
       "      <td>16150</td>\n",
       "      <td>16100</td>\n",
       "    </tr>\n",
       "    <tr>\n",
       "      <th>9</th>\n",
       "      <td>01.04.23</td>\n",
       "      <td>16300</td>\n",
       "      <td>15800</td>\n",
       "    </tr>\n",
       "    <tr>\n",
       "      <th>10</th>\n",
       "      <td>01.03.23</td>\n",
       "      <td>16200</td>\n",
       "      <td>16200</td>\n",
       "    </tr>\n",
       "    <tr>\n",
       "      <th>11</th>\n",
       "      <td>01.02.23</td>\n",
       "      <td>16300</td>\n",
       "      <td>15700</td>\n",
       "    </tr>\n",
       "  </tbody>\n",
       "</table>\n",
       "</div>"
      ],
      "text/plain": [
       "        Date  Starting (USD)  Ending (USD)\n",
       "0   01.01.24           16800         16500\n",
       "1   01.12.23           15900         16100\n",
       "2   01.11.23           15800         15300\n",
       "3   01.10.23           16100         16200\n",
       "4   01.09.23           16300         15700\n",
       "5   01.08.23           16800         16400\n",
       "6   01.07.23           15900         16200\n",
       "7   01.06.23           15800         15500\n",
       "8   01.05.23           16150         16100\n",
       "9   01.04.23           16300         15800\n",
       "10  01.03.23           16200         16200\n",
       "11  01.02.23           16300         15700"
      ]
     },
     "execution_count": 2,
     "metadata": {},
     "output_type": "execute_result"
    }
   ],
   "source": [
    "df = pd.read_csv('salary.csv', sep = ';')\n",
    "df"
   ]
  },
  {
   "cell_type": "code",
   "execution_count": 3,
   "id": "b1b25909-3631-4c62-9627-f1bd18d01fd7",
   "metadata": {
    "colab": {
     "base_uri": "https://localhost:8080/",
     "height": 425
    },
    "executionInfo": {
     "elapsed": 666,
     "status": "ok",
     "timestamp": 1739627799203,
     "user": {
      "displayName": "Sudipto Dey Himel (222-115-201)",
      "userId": "06301295033781781722"
     },
     "user_tz": -360
    },
    "id": "b1b25909-3631-4c62-9627-f1bd18d01fd7",
    "outputId": "e66738b5-50c4-4510-e6c2-d021415a0a03"
   },
   "outputs": [
    {
     "data": {
      "text/html": [
       "<div>\n",
       "<style scoped>\n",
       "    .dataframe tbody tr th:only-of-type {\n",
       "        vertical-align: middle;\n",
       "    }\n",
       "\n",
       "    .dataframe tbody tr th {\n",
       "        vertical-align: top;\n",
       "    }\n",
       "\n",
       "    .dataframe thead th {\n",
       "        text-align: right;\n",
       "    }\n",
       "</style>\n",
       "<table border=\"1\" class=\"dataframe\">\n",
       "  <thead>\n",
       "    <tr style=\"text-align: right;\">\n",
       "      <th></th>\n",
       "      <th>Starting (USD)</th>\n",
       "      <th>Ending (USD)</th>\n",
       "    </tr>\n",
       "  </thead>\n",
       "  <tbody>\n",
       "    <tr>\n",
       "      <th>0</th>\n",
       "      <td>16800</td>\n",
       "      <td>16500</td>\n",
       "    </tr>\n",
       "    <tr>\n",
       "      <th>1</th>\n",
       "      <td>15900</td>\n",
       "      <td>16100</td>\n",
       "    </tr>\n",
       "    <tr>\n",
       "      <th>2</th>\n",
       "      <td>15800</td>\n",
       "      <td>15300</td>\n",
       "    </tr>\n",
       "    <tr>\n",
       "      <th>3</th>\n",
       "      <td>16100</td>\n",
       "      <td>16200</td>\n",
       "    </tr>\n",
       "    <tr>\n",
       "      <th>4</th>\n",
       "      <td>16300</td>\n",
       "      <td>15700</td>\n",
       "    </tr>\n",
       "    <tr>\n",
       "      <th>5</th>\n",
       "      <td>16800</td>\n",
       "      <td>16400</td>\n",
       "    </tr>\n",
       "    <tr>\n",
       "      <th>6</th>\n",
       "      <td>15900</td>\n",
       "      <td>16200</td>\n",
       "    </tr>\n",
       "    <tr>\n",
       "      <th>7</th>\n",
       "      <td>15800</td>\n",
       "      <td>15500</td>\n",
       "    </tr>\n",
       "    <tr>\n",
       "      <th>8</th>\n",
       "      <td>16150</td>\n",
       "      <td>16100</td>\n",
       "    </tr>\n",
       "    <tr>\n",
       "      <th>9</th>\n",
       "      <td>16300</td>\n",
       "      <td>15800</td>\n",
       "    </tr>\n",
       "    <tr>\n",
       "      <th>10</th>\n",
       "      <td>16200</td>\n",
       "      <td>16200</td>\n",
       "    </tr>\n",
       "    <tr>\n",
       "      <th>11</th>\n",
       "      <td>16300</td>\n",
       "      <td>15700</td>\n",
       "    </tr>\n",
       "  </tbody>\n",
       "</table>\n",
       "</div>"
      ],
      "text/plain": [
       "    Starting (USD)  Ending (USD)\n",
       "0            16800         16500\n",
       "1            15900         16100\n",
       "2            15800         15300\n",
       "3            16100         16200\n",
       "4            16300         15700\n",
       "5            16800         16400\n",
       "6            15900         16200\n",
       "7            15800         15500\n",
       "8            16150         16100\n",
       "9            16300         15800\n",
       "10           16200         16200\n",
       "11           16300         15700"
      ]
     },
     "execution_count": 3,
     "metadata": {},
     "output_type": "execute_result"
    }
   ],
   "source": [
    "new_df = df.drop('Date', axis = 'columns')\n",
    "new_df"
   ]
  },
  {
   "cell_type": "markdown",
   "id": "GBgevmCoPHSX",
   "metadata": {
    "id": "GBgevmCoPHSX"
   },
   "source": [
    "Visualization"
   ]
  },
  {
   "cell_type": "code",
   "execution_count": 4,
   "id": "5ff2890e-9898-45e5-8b19-7f1867d0d5f2",
   "metadata": {
    "colab": {
     "base_uri": "https://localhost:8080/",
     "height": 467
    },
    "executionInfo": {
     "elapsed": 426,
     "status": "ok",
     "timestamp": 1739601801255,
     "user": {
      "displayName": "Sudipto Dey Himel (222-115-201)",
      "userId": "06301295033781781722"
     },
     "user_tz": -360
    },
    "id": "5ff2890e-9898-45e5-8b19-7f1867d0d5f2",
    "outputId": "c0b15e36-56e3-4fd7-fa95-9def47f239eb"
   },
   "outputs": [
    {
     "data": {
      "text/plain": [
       "<matplotlib.collections.PathCollection at 0x1f890dc17c0>"
      ]
     },
     "execution_count": 4,
     "metadata": {},
     "output_type": "execute_result"
    },
    {
     "data": {
      "image/png": "[encoded data removed]",
      "text/plain": [
       "<Figure size 640x480 with 1 Axes>"
      ]
     },
     "metadata": {},
     "output_type": "display_data"
    }
   ],
   "source": [
    "%matplotlib inline\n",
    "plt.xlabel('Starting (USD)')\n",
    "plt.ylabel(\"Ending (USD)\")\n",
    "plt.scatter(df['Starting (USD)'], df['Ending (USD)'], color = 'blue', marker = '*')"
   ]
  },
  {
   "cell_type": "code",
   "execution_count": 5,
   "id": "bbbc0c81-d4b2-4fcb-8561-4eeccf61e1ee",
   "metadata": {
    "colab": {
     "base_uri": "https://localhost:8080/",
     "height": 425
    },
    "executionInfo": {
     "elapsed": 480,
     "status": "ok",
     "timestamp": 1739601804802,
     "user": {
      "displayName": "Sudipto Dey Himel (222-115-201)",
      "userId": "06301295033781781722"
     },
     "user_tz": -360
    },
    "id": "bbbc0c81-d4b2-4fcb-8561-4eeccf61e1ee",
    "outputId": "0e828180-df9f-4f51-a140-b9796b3c226d"
   },
   "outputs": [
    {
     "data": {
      "text/html": [
       "<div>\n",
       "<style scoped>\n",
       "    .dataframe tbody tr th:only-of-type {\n",
       "        vertical-align: middle;\n",
       "    }\n",
       "\n",
       "    .dataframe tbody tr th {\n",
       "        vertical-align: top;\n",
       "    }\n",
       "\n",
       "    .dataframe thead th {\n",
       "        text-align: right;\n",
       "    }\n",
       "</style>\n",
       "<table border=\"1\" class=\"dataframe\">\n",
       "  <thead>\n",
       "    <tr style=\"text-align: right;\">\n",
       "      <th></th>\n",
       "      <th>Starting (USD)</th>\n",
       "    </tr>\n",
       "  </thead>\n",
       "  <tbody>\n",
       "    <tr>\n",
       "      <th>0</th>\n",
       "      <td>16800</td>\n",
       "    </tr>\n",
       "    <tr>\n",
       "      <th>1</th>\n",
       "      <td>15900</td>\n",
       "    </tr>\n",
       "    <tr>\n",
       "      <th>2</th>\n",
       "      <td>15800</td>\n",
       "    </tr>\n",
       "    <tr>\n",
       "      <th>3</th>\n",
       "      <td>16100</td>\n",
       "    </tr>\n",
       "    <tr>\n",
       "      <th>4</th>\n",
       "      <td>16300</td>\n",
       "    </tr>\n",
       "    <tr>\n",
       "      <th>5</th>\n",
       "      <td>16800</td>\n",
       "    </tr>\n",
       "    <tr>\n",
       "      <th>6</th>\n",
       "      <td>15900</td>\n",
       "    </tr>\n",
       "    <tr>\n",
       "      <th>7</th>\n",
       "      <td>15800</td>\n",
       "    </tr>\n",
       "    <tr>\n",
       "      <th>8</th>\n",
       "      <td>16150</td>\n",
       "    </tr>\n",
       "    <tr>\n",
       "      <th>9</th>\n",
       "      <td>16300</td>\n",
       "    </tr>\n",
       "    <tr>\n",
       "      <th>10</th>\n",
       "      <td>16200</td>\n",
       "    </tr>\n",
       "    <tr>\n",
       "      <th>11</th>\n",
       "      <td>16300</td>\n",
       "    </tr>\n",
       "  </tbody>\n",
       "</table>\n",
       "</div>"
      ],
      "text/plain": [
       "    Starting (USD)\n",
       "0            16800\n",
       "1            15900\n",
       "2            15800\n",
       "3            16100\n",
       "4            16300\n",
       "5            16800\n",
       "6            15900\n",
       "7            15800\n",
       "8            16150\n",
       "9            16300\n",
       "10           16200\n",
       "11           16300"
      ]
     },
     "execution_count": 5,
     "metadata": {},
     "output_type": "execute_result"
    }
   ],
   "source": [
    "x = new_df[['Starting (USD)']]\n",
    "x"
   ]
  },
  {
   "cell_type": "code",
   "execution_count": 6,
   "id": "e05d81d6-0932-483b-aff2-d0b92004cb9d",
   "metadata": {
    "colab": {
     "base_uri": "https://localhost:8080/",
     "height": 425
    },
    "executionInfo": {
     "elapsed": 375,
     "status": "ok",
     "timestamp": 1739601808029,
     "user": {
      "displayName": "Sudipto Dey Himel (222-115-201)",
      "userId": "06301295033781781722"
     },
     "user_tz": -360
    },
    "id": "e05d81d6-0932-483b-aff2-d0b92004cb9d",
    "outputId": "efc11a5f-6c11-41ce-f1a8-340f3b35fee5"
   },
   "outputs": [
    {
     "data": {
      "text/html": [
       "<div>\n",
       "<style scoped>\n",
       "    .dataframe tbody tr th:only-of-type {\n",
       "        vertical-align: middle;\n",
       "    }\n",
       "\n",
       "    .dataframe tbody tr th {\n",
       "        vertical-align: top;\n",
       "    }\n",
       "\n",
       "    .dataframe thead th {\n",
       "        text-align: right;\n",
       "    }\n",
       "</style>\n",
       "<table border=\"1\" class=\"dataframe\">\n",
       "  <thead>\n",
       "    <tr style=\"text-align: right;\">\n",
       "      <th></th>\n",
       "      <th>Ending (USD)</th>\n",
       "    </tr>\n",
       "  </thead>\n",
       "  <tbody>\n",
       "    <tr>\n",
       "      <th>0</th>\n",
       "      <td>16500</td>\n",
       "    </tr>\n",
       "    <tr>\n",
       "      <th>1</th>\n",
       "      <td>16100</td>\n",
       "    </tr>\n",
       "    <tr>\n",
       "      <th>2</th>\n",
       "      <td>15300</td>\n",
       "    </tr>\n",
       "    <tr>\n",
       "      <th>3</th>\n",
       "      <td>16200</td>\n",
       "    </tr>\n",
       "    <tr>\n",
       "      <th>4</th>\n",
       "      <td>15700</td>\n",
       "    </tr>\n",
       "    <tr>\n",
       "      <th>5</th>\n",
       "      <td>16400</td>\n",
       "    </tr>\n",
       "    <tr>\n",
       "      <th>6</th>\n",
       "      <td>16200</td>\n",
       "    </tr>\n",
       "    <tr>\n",
       "      <th>7</th>\n",
       "      <td>15500</td>\n",
       "    </tr>\n",
       "    <tr>\n",
       "      <th>8</th>\n",
       "      <td>16100</td>\n",
       "    </tr>\n",
       "    <tr>\n",
       "      <th>9</th>\n",
       "      <td>15800</td>\n",
       "    </tr>\n",
       "    <tr>\n",
       "      <th>10</th>\n",
       "      <td>16200</td>\n",
       "    </tr>\n",
       "    <tr>\n",
       "      <th>11</th>\n",
       "      <td>15700</td>\n",
       "    </tr>\n",
       "  </tbody>\n",
       "</table>\n",
       "</div>"
      ],
      "text/plain": [
       "    Ending (USD)\n",
       "0          16500\n",
       "1          16100\n",
       "2          15300\n",
       "3          16200\n",
       "4          15700\n",
       "5          16400\n",
       "6          16200\n",
       "7          15500\n",
       "8          16100\n",
       "9          15800\n",
       "10         16200\n",
       "11         15700"
      ]
     },
     "execution_count": 6,
     "metadata": {},
     "output_type": "execute_result"
    }
   ],
   "source": [
    "y = new_df[['Ending (USD)']]\n",
    "y"
   ]
  },
  {
   "cell_type": "markdown",
   "id": "y08hQaYgPNQD",
   "metadata": {
    "id": "y08hQaYgPNQD"
   },
   "source": [
    "Import ML model"
   ]
  },
  {
   "cell_type": "code",
   "execution_count": 7,
   "id": "dbdd2a48-452c-4cc4-af0a-46ba00e9f33d",
   "metadata": {
    "id": "dbdd2a48-452c-4cc4-af0a-46ba00e9f33d"
   },
   "outputs": [],
   "source": [
    "from sklearn import linear_model"
   ]
  },
  {
   "cell_type": "code",
   "execution_count": 8,
   "id": "f429bd01-0f00-479a-a95b-f75dd58df62f",
   "metadata": {
    "id": "f429bd01-0f00-479a-a95b-f75dd58df62f"
   },
   "outputs": [],
   "source": [
    "# Linear regression object\n",
    "\n",
    "reg = linear_model.LinearRegression()"
   ]
  },
  {
   "cell_type": "code",
   "execution_count": 9,
   "id": "mGUsrmbi0Rop",
   "metadata": {
    "colab": {
     "base_uri": "https://localhost:8080/",
     "height": 115
    },
    "executionInfo": {
     "elapsed": 455,
     "status": "ok",
     "timestamp": 1739601825038,
     "user": {
      "displayName": "Sudipto Dey Himel (222-115-201)",
      "userId": "06301295033781781722"
     },
     "user_tz": -360
    },
    "id": "mGUsrmbi0Rop",
    "outputId": "c6c8ba3b-290a-4b18-e3c5-04af0e8b3170"
   },
   "outputs": [
    {
     "data": {
      "text/plain": [
       "Starting (USD)    16195.833333\n",
       "dtype: float64"
      ]
     },
     "execution_count": 9,
     "metadata": {},
     "output_type": "execute_result"
    }
   ],
   "source": [
    "x.mean()"
   ]
  },
  {
   "cell_type": "code",
   "execution_count": 10,
   "id": "59xov-CI0Tjf",
   "metadata": {
    "colab": {
     "base_uri": "https://localhost:8080/",
     "height": 115
    },
    "executionInfo": {
     "elapsed": 385,
     "status": "ok",
     "timestamp": 1739601827202,
     "user": {
      "displayName": "Sudipto Dey Himel (222-115-201)",
      "userId": "06301295033781781722"
     },
     "user_tz": -360
    },
    "id": "59xov-CI0Tjf",
    "outputId": "c7ac0f51-d79e-49de-905d-c1eddf3e1efd"
   },
   "outputs": [
    {
     "data": {
      "text/plain": [
       "Ending (USD)    15975.0\n",
       "dtype: float64"
      ]
     },
     "execution_count": 10,
     "metadata": {},
     "output_type": "execute_result"
    }
   ],
   "source": [
    "y.mean()"
   ]
  },
  {
   "cell_type": "code",
   "execution_count": 11,
   "id": "1LB8Ox6K06XS",
   "metadata": {
    "colab": {
     "base_uri": "https://localhost:8080/",
     "height": 467
    },
    "executionInfo": {
     "elapsed": 441,
     "status": "ok",
     "timestamp": 1739601829740,
     "user": {
      "displayName": "Sudipto Dey Himel (222-115-201)",
      "userId": "06301295033781781722"
     },
     "user_tz": -360
    },
    "id": "1LB8Ox6K06XS",
    "outputId": "9989c9a6-c621-49ca-e738-9c9da0a5599b"
   },
   "outputs": [
    {
     "data": {
      "text/plain": [
       "<matplotlib.collections.PathCollection at 0x1f88e5ceb10>"
      ]
     },
     "execution_count": 11,
     "metadata": {},
     "output_type": "execute_result"
    },
    {
     "data": {
      "image/png": "[encoded data removed]",
      "text/plain": [
       "<Figure size 640x480 with 1 Axes>"
      ]
     },
     "metadata": {},
     "output_type": "display_data"
    }
   ],
   "source": [
    "plt.scatter(x.mean(), y.mean(), color = 'red', marker = 'o')\n",
    "plt.xlabel('Starting (USD)')\n",
    "plt.ylabel(\"Ending (USD)\")\n",
    "plt.scatter(df['Starting (USD)'], df['Ending (USD)'], color = 'blue', marker = '*')"
   ]
  },
  {
   "cell_type": "code",
   "execution_count": 12,
   "id": "cj0cWAMk0-Db",
   "metadata": {
    "colab": {
     "base_uri": "https://localhost:8080/",
     "height": 80
    },
    "executionInfo": {
     "elapsed": 388,
     "status": "ok",
     "timestamp": 1739601835028,
     "user": {
      "displayName": "Sudipto Dey Himel (222-115-201)",
      "userId": "06301295033781781722"
     },
     "user_tz": -360
    },
    "id": "cj0cWAMk0-Db",
    "outputId": "e256d5d4-8018-4f13-dc9d-33564db23e05"
   },
   "outputs": [
    {
     "data": {
      "text/html": [
       "<style>#sk-container-id-1 {\n",
       "  /* Definition of color scheme common for light and dark mode */\n",
       "  --sklearn-color-text: #000;\n",
       "  --sklearn-color-text-muted: #666;\n",
       "  --sklearn-color-line: gray;\n",
       "  /* Definition of color scheme for unfitted estimators */\n",
       "  --sklearn-color-unfitted-level-0: #fff5e6;\n",
       "  --sklearn-color-unfitted-level-1: #f6e4d2;\n",
       "  --sklearn-color-unfitted-level-2: #ffe0b3;\n",
       "  --sklearn-color-unfitted-level-3: chocolate;\n",
       "  /* Definition of color scheme for fitted estimators */\n",
       "  --sklearn-color-fitted-level-0: #f0f8ff;\n",
       "  --sklearn-color-fitted-level-1: #d4ebff;\n",
       "  --sklearn-color-fitted-level-2: #b3dbfd;\n",
       "  --sklearn-color-fitted-level-3: cornflowerblue;\n",
       "\n",
       "  /* Specific color for light theme */\n",
       "  --sklearn-color-text-on-default-background: var(--sg-text-color, var(--theme-code-foreground, var(--jp-content-font-color1, black)));\n",
       "  --sklearn-color-background: var(--sg-background-color, var(--theme-background, var(--jp-layout-color0, white)));\n",
       "  --sklearn-color-border-box: var(--sg-text-color, var(--theme-code-foreground, var(--jp-content-font-color1, black)));\n",
       "  --sklearn-color-icon: #696969;\n",
       "\n",
       "  @media (prefers-color-scheme: dark) {\n",
       "    /* Redefinition of color scheme for dark theme */\n",
       "    --sklearn-color-text-on-default-background: var(--sg-text-color, var(--theme-code-foreground, var(--jp-content-font-color1, white)));\n",
       "    --sklearn-color-background: var(--sg-background-color, var(--theme-background, var(--jp-layout-color0, #111)));\n",
       "    --sklearn-color-border-box: var(--sg-text-color, var(--theme-code-foreground, var(--jp-content-font-color1, white)));\n",
       "    --sklearn-color-icon: #878787;\n",
       "  }\n",
       "}\n",
       "\n",
       "#sk-container-id-1 {\n",
       "  color: var(--sklearn-color-text);\n",
       "}\n",
       "\n",
       "#sk-container-id-1 pre {\n",
       "  padding: 0;\n",
       "}\n",
       "\n",
       "#sk-container-id-1 input.sk-hidden--visually {\n",
       "  border: 0;\n",
       "  clip: rect(1px 1px 1px 1px);\n",
       "  clip: rect(1px, 1px, 1px, 1px);\n",
       "  height: 1px;\n",
       "  margin: -1px;\n",
       "  overflow: hidden;\n",
       "  padding: 0;\n",
       "  position: absolute;\n",
       "  width: 1px;\n",
       "}\n",
       "\n",
       "#sk-container-id-1 div.sk-dashed-wrapped {\n",
       "  border: 1px dashed var(--sklearn-color-line);\n",
       "  margin: 0 0.4em 0.5em 0.4em;\n",
       "  box-sizing: border-box;\n",
       "  padding-bottom: 0.4em;\n",
       "  background-color: var(--sklearn-color-background);\n",
       "}\n",
       "\n",
       "#sk-container-id-1 div.sk-container {\n",
       "  /* jupyter's `normalize.less` sets `[hidden] { display: none; }`\n",
       "     but bootstrap.min.css set `[hidden] { display: none !important; }`\n",
       "     so we also need the `!important` here to be able to override the\n",
       "     default hidden behavior on the sphinx rendered scikit-learn.org.\n",
       "     See: https://github.com/scikit-learn/scikit-learn/issues/21755 */\n",
       "  display: inline-block !important;\n",
       "  position: relative;\n",
       "}\n",
       "\n",
       "#sk-container-id-1 div.sk-text-repr-fallback {\n",
       "  display: none;\n",
       "}\n",
       "\n",
       "div.sk-parallel-item,\n",
       "div.sk-serial,\n",
       "div.sk-item {\n",
       "  /* draw centered vertical line to link estimators */\n",
       "  background-image: linear-gradient(var(--sklearn-color-text-on-default-background), var(--sklearn-color-text-on-default-background));\n",
       "  background-size: 2px 100%;\n",
       "  background-repeat: no-repeat;\n",
       "  background-position: center center;\n",
       "}\n",
       "\n",
       "/* Parallel-specific style estimator block */\n",
       "\n",
       "#sk-container-id-1 div.sk-parallel-item::after {\n",
       "  content: \"\";\n",
       "  width: 100%;\n",
       "  border-bottom: 2px solid var(--sklearn-color-text-on-default-background);\n",
       "  flex-grow: 1;\n",
       "}\n",
       "\n",
       "#sk-container-id-1 div.sk-parallel {\n",
       "  display: flex;\n",
       "  align-items: stretch;\n",
       "  justify-content: center;\n",
       "  background-color: var(--sklearn-color-background);\n",
       "  position: relative;\n",
       "}\n",
       "\n",
       "#sk-container-id-1 div.sk-parallel-item {\n",
       "  display: flex;\n",
       "  flex-direction: column;\n",
       "}\n",
       "\n",
       "#sk-container-id-1 div.sk-parallel-item:first-child::after {\n",
       "  align-self: flex-end;\n",
       "  width: 50%;\n",
       "}\n",
       "\n",
       "#sk-container-id-1 div.sk-parallel-item:last-child::after {\n",
       "  align-self: flex-start;\n",
       "  width: 50%;\n",
       "}\n",
       "\n",
       "#sk-container-id-1 div.sk-parallel-item:only-child::after {\n",
       "  width: 0;\n",
       "}\n",
       "\n",
       "/* Serial-specific style estimator block */\n",
       "\n",
       "#sk-container-id-1 div.sk-serial {\n",
       "  display: flex;\n",
       "  flex-direction: column;\n",
       "  align-items: center;\n",
       "  background-color: var(--sklearn-color-background);\n",
       "  padding-right: 1em;\n",
       "  padding-left: 1em;\n",
       "}\n",
       "\n",
       "\n",
       "/* Toggleable style: style used for estimator/Pipeline/ColumnTransformer box that is\n",
       "clickable and can be expanded/collapsed.\n",
       "- Pipeline and ColumnTransformer use this feature and define the default style\n",
       "- Estimators will overwrite some part of the style using the `sk-estimator` class\n",
       "*/\n",
       "\n",
       "/* Pipeline and ColumnTransformer style (default) */\n",
       "\n",
       "#sk-container-id-1 div.sk-toggleable {\n",
       "  /* Default theme specific background. It is overwritten whether we have a\n",
       "  specific estimator or a Pipeline/ColumnTransformer */\n",
       "  background-color: var(--sklearn-color-background);\n",
       "}\n",
       "\n",
       "/* Toggleable label */\n",
       "#sk-container-id-1 label.sk-toggleable__label {\n",
       "  cursor: pointer;\n",
       "  display: flex;\n",
       "  width: 100%;\n",
       "  margin-bottom: 0;\n",
       "  padding: 0.5em;\n",
       "  box-sizing: border-box;\n",
       "  text-align: center;\n",
       "  align-items: start;\n",
       "  justify-content: space-between;\n",
       "  gap: 0.5em;\n",
       "}\n",
       "\n",
       "#sk-container-id-1 label.sk-toggleable__label .caption {\n",
       "  font-size: 0.6rem;\n",
       "  font-weight: lighter;\n",
       "  color: var(--sklearn-color-text-muted);\n",
       "}\n",
       "\n",
       "#sk-container-id-1 label.sk-toggleable__label-arrow:before {\n",
       "  /* Arrow on the left of the label */\n",
       "  content: \"▸\";\n",
       "  float: left;\n",
       "  margin-right: 0.25em;\n",
       "  color: var(--sklearn-color-icon);\n",
       "}\n",
       "\n",
       "#sk-container-id-1 label.sk-toggleable__label-arrow:hover:before {\n",
       "  color: var(--sklearn-color-text);\n",
       "}\n",
       "\n",
       "/* Toggleable content - dropdown */\n",
       "\n",
       "#sk-container-id-1 div.sk-toggleable__content {\n",
       "  max-height: 0;\n",
       "  max-width: 0;\n",
       "  overflow: hidden;\n",
       "  text-align: left;\n",
       "  /* unfitted */\n",
       "  background-color: var(--sklearn-color-unfitted-level-0);\n",
       "}\n",
       "\n",
       "#sk-container-id-1 div.sk-toggleable__content.fitted {\n",
       "  /* fitted */\n",
       "  background-color: var(--sklearn-color-fitted-level-0);\n",
       "}\n",
       "\n",
       "#sk-container-id-1 div.sk-toggleable__content pre {\n",
       "  margin: 0.2em;\n",
       "  border-radius: 0.25em;\n",
       "  color: var(--sklearn-color-text);\n",
       "  /* unfitted */\n",
       "  background-color: var(--sklearn-color-unfitted-level-0);\n",
       "}\n",
       "\n",
       "#sk-container-id-1 div.sk-toggleable__content.fitted pre {\n",
       "  /* unfitted */\n",
       "  background-color: var(--sklearn-color-fitted-level-0);\n",
       "}\n",
       "\n",
       "#sk-container-id-1 input.sk-toggleable__control:checked~div.sk-toggleable__content {\n",
       "  /* Expand drop-down */\n",
       "  max-height: 200px;\n",
       "  max-width: 100%;\n",
       "  overflow: auto;\n",
       "}\n",
       "\n",
       "#sk-container-id-1 input.sk-toggleable__control:checked~label.sk-toggleable__label-arrow:before {\n",
       "  content: \"▾\";\n",
       "}\n",
       "\n",
       "/* Pipeline/ColumnTransformer-specific style */\n",
       "\n",
       "#sk-container-id-1 div.sk-label input.sk-toggleable__control:checked~label.sk-toggleable__label {\n",
       "  color: var(--sklearn-color-text);\n",
       "  background-color: var(--sklearn-color-unfitted-level-2);\n",
       "}\n",
       "\n",
       "#sk-container-id-1 div.sk-label.fitted input.sk-toggleable__control:checked~label.sk-toggleable__label {\n",
       "  background-color: var(--sklearn-color-fitted-level-2);\n",
       "}\n",
       "\n",
       "/* Estimator-specific style */\n",
       "\n",
       "/* Colorize estimator box */\n",
       "#sk-container-id-1 div.sk-estimator input.sk-toggleable__control:checked~label.sk-toggleable__label {\n",
       "  /* unfitted */\n",
       "  background-color: var(--sklearn-color-unfitted-level-2);\n",
       "}\n",
       "\n",
       "#sk-container-id-1 div.sk-estimator.fitted input.sk-toggleable__control:checked~label.sk-toggleable__label {\n",
       "  /* fitted */\n",
       "  background-color: var(--sklearn-color-fitted-level-2);\n",
       "}\n",
       "\n",
       "#sk-container-id-1 div.sk-label label.sk-toggleable__label,\n",
       "#sk-container-id-1 div.sk-label label {\n",
       "  /* The background is the default theme color */\n",
       "  color: var(--sklearn-color-text-on-default-background);\n",
       "}\n",
       "\n",
       "/* On hover, darken the color of the background */\n",
       "#sk-container-id-1 div.sk-label:hover label.sk-toggleable__label {\n",
       "  color: var(--sklearn-color-text);\n",
       "  background-color: var(--sklearn-color-unfitted-level-2);\n",
       "}\n",
       "\n",
       "/* Label box, darken color on hover, fitted */\n",
       "#sk-container-id-1 div.sk-label.fitted:hover label.sk-toggleable__label.fitted {\n",
       "  color: var(--sklearn-color-text);\n",
       "  background-color: var(--sklearn-color-fitted-level-2);\n",
       "}\n",
       "\n",
       "/* Estimator label */\n",
       "\n",
       "#sk-container-id-1 div.sk-label label {\n",
       "  font-family: monospace;\n",
       "  font-weight: bold;\n",
       "  display: inline-block;\n",
       "  line-height: 1.2em;\n",
       "}\n",
       "\n",
       "#sk-container-id-1 div.sk-label-container {\n",
       "  text-align: center;\n",
       "}\n",
       "\n",
       "/* Estimator-specific */\n",
       "#sk-container-id-1 div.sk-estimator {\n",
       "  font-family: monospace;\n",
       "  border: 1px dotted var(--sklearn-color-border-box);\n",
       "  border-radius: 0.25em;\n",
       "  box-sizing: border-box;\n",
       "  margin-bottom: 0.5em;\n",
       "  /* unfitted */\n",
       "  background-color: var(--sklearn-color-unfitted-level-0);\n",
       "}\n",
       "\n",
       "#sk-container-id-1 div.sk-estimator.fitted {\n",
       "  /* fitted */\n",
       "  background-color: var(--sklearn-color-fitted-level-0);\n",
       "}\n",
       "\n",
       "/* on hover */\n",
       "#sk-container-id-1 div.sk-estimator:hover {\n",
       "  /* unfitted */\n",
       "  background-color: var(--sklearn-color-unfitted-level-2);\n",
       "}\n",
       "\n",
       "#sk-container-id-1 div.sk-estimator.fitted:hover {\n",
       "  /* fitted */\n",
       "  background-color: var(--sklearn-color-fitted-level-2);\n",
       "}\n",
       "\n",
       "/* Specification for estimator info (e.g. \"i\" and \"?\") */\n",
       "\n",
       "/* Common style for \"i\" and \"?\" */\n",
       "\n",
       ".sk-estimator-doc-link,\n",
       "a:link.sk-estimator-doc-link,\n",
       "a:visited.sk-estimator-doc-link {\n",
       "  float: right;\n",
       "  font-size: smaller;\n",
       "  line-height: 1em;\n",
       "  font-family: monospace;\n",
       "  background-color: var(--sklearn-color-background);\n",
       "  border-radius: 1em;\n",
       "  height: 1em;\n",
       "  width: 1em;\n",
       "  text-decoration: none !important;\n",
       "  margin-left: 0.5em;\n",
       "  text-align: center;\n",
       "  /* unfitted */\n",
       "  border: var(--sklearn-color-unfitted-level-1) 1pt solid;\n",
       "  color: var(--sklearn-color-unfitted-level-1);\n",
       "}\n",
       "\n",
       ".sk-estimator-doc-link.fitted,\n",
       "a:link.sk-estimator-doc-link.fitted,\n",
       "a:visited.sk-estimator-doc-link.fitted {\n",
       "  /* fitted */\n",
       "  border: var(--sklearn-color-fitted-level-1) 1pt solid;\n",
       "  color: var(--sklearn-color-fitted-level-1);\n",
       "}\n",
       "\n",
       "/* On hover */\n",
       "div.sk-estimator:hover .sk-estimator-doc-link:hover,\n",
       ".sk-estimator-doc-link:hover,\n",
       "div.sk-label-container:hover .sk-estimator-doc-link:hover,\n",
       ".sk-estimator-doc-link:hover {\n",
       "  /* unfitted */\n",
       "  background-color: var(--sklearn-color-unfitted-level-3);\n",
       "  color: var(--sklearn-color-background);\n",
       "  text-decoration: none;\n",
       "}\n",
       "\n",
       "div.sk-estimator.fitted:hover .sk-estimator-doc-link.fitted:hover,\n",
       ".sk-estimator-doc-link.fitted:hover,\n",
       "div.sk-label-container:hover .sk-estimator-doc-link.fitted:hover,\n",
       ".sk-estimator-doc-link.fitted:hover {\n",
       "  /* fitted */\n",
       "  background-color: var(--sklearn-color-fitted-level-3);\n",
       "  color: var(--sklearn-color-background);\n",
       "  text-decoration: none;\n",
       "}\n",
       "\n",
       "/* Span, style for the box shown on hovering the info icon */\n",
       ".sk-estimator-doc-link span {\n",
       "  display: none;\n",
       "  z-index: 9999;\n",
       "  position: relative;\n",
       "  font-weight: normal;\n",
       "  right: .2ex;\n",
       "  padding: .5ex;\n",
       "  margin: .5ex;\n",
       "  width: min-content;\n",
       "  min-width: 20ex;\n",
       "  max-width: 50ex;\n",
       "  color: var(--sklearn-color-text);\n",
       "  box-shadow: 2pt 2pt 4pt #999;\n",
       "  /* unfitted */\n",
       "  background: var(--sklearn-color-unfitted-level-0);\n",
       "  border: .5pt solid var(--sklearn-color-unfitted-level-3);\n",
       "}\n",
       "\n",
       ".sk-estimator-doc-link.fitted span {\n",
       "  /* fitted */\n",
       "  background: var(--sklearn-color-fitted-level-0);\n",
       "  border: var(--sklearn-color-fitted-level-3);\n",
       "}\n",
       "\n",
       ".sk-estimator-doc-link:hover span {\n",
       "  display: block;\n",
       "}\n",
       "\n",
       "/* \"?\"-specific style due to the `<a>` HTML tag */\n",
       "\n",
       "#sk-container-id-1 a.estimator_doc_link {\n",
       "  float: right;\n",
       "  font-size: 1rem;\n",
       "  line-height: 1em;\n",
       "  font-family: monospace;\n",
       "  background-color: var(--sklearn-color-background);\n",
       "  border-radius: 1rem;\n",
       "  height: 1rem;\n",
       "  width: 1rem;\n",
       "  text-decoration: none;\n",
       "  /* unfitted */\n",
       "  color: var(--sklearn-color-unfitted-level-1);\n",
       "  border: var(--sklearn-color-unfitted-level-1) 1pt solid;\n",
       "}\n",
       "\n",
       "#sk-container-id-1 a.estimator_doc_link.fitted {\n",
       "  /* fitted */\n",
       "  border: var(--sklearn-color-fitted-level-1) 1pt solid;\n",
       "  color: var(--sklearn-color-fitted-level-1);\n",
       "}\n",
       "\n",
       "/* On hover */\n",
       "#sk-container-id-1 a.estimator_doc_link:hover {\n",
       "  /* unfitted */\n",
       "  background-color: var(--sklearn-color-unfitted-level-3);\n",
       "  color: var(--sklearn-color-background);\n",
       "  text-decoration: none;\n",
       "}\n",
       "\n",
       "#sk-container-id-1 a.estimator_doc_link.fitted:hover {\n",
       "  /* fitted */\n",
       "  background-color: var(--sklearn-color-fitted-level-3);\n",
       "}\n",
       "</style><div id=\"sk-container-id-1\" class=\"sk-top-container\"><div class=\"sk-text-repr-fallback\"><pre>LinearRegression()</pre><b>In a Jupyter environment, please rerun this cell to show the HTML representation or trust the notebook. <br />On GitHub, the HTML representation is unable to render, please try loading this page with nbviewer.org.</b></div><div class=\"sk-container\" hidden><div class=\"sk-item\"><div class=\"sk-estimator fitted sk-toggleable\"><input class=\"sk-toggleable__control sk-hidden--visually\" id=\"sk-estimator-id-1\" type=\"checkbox\" checked><label for=\"sk-estimator-id-1\" class=\"sk-toggleable__label fitted sk-toggleable__label-arrow\"><div><div>LinearRegression</div></div><div><a class=\"sk-estimator-doc-link fitted\" rel=\"noreferrer\" target=\"_blank\" href=\"https://scikit-learn.org/1.6/modules/generated/sklearn.linear_model.LinearRegression.html\">?<span>Documentation for LinearRegression</span></a><span class=\"sk-estimator-doc-link fitted\">i<span>Fitted</span></span></div></label><div class=\"sk-toggleable__content fitted\"><pre>LinearRegression()</pre></div> </div></div></div></div>"
      ],
      "text/plain": [
       "LinearRegression()"
      ]
     },
     "execution_count": 12,
     "metadata": {},
     "output_type": "execute_result"
    }
   ],
   "source": [
    "reg.fit(x, y)"
   ]
  },
  {
   "cell_type": "code",
   "execution_count": 13,
   "id": "m1C6ds-D1Dub",
   "metadata": {
    "colab": {
     "base_uri": "https://localhost:8080/"
    },
    "executionInfo": {
     "elapsed": 401,
     "status": "ok",
     "timestamp": 1739601837023,
     "user": {
      "displayName": "Sudipto Dey Himel (222-115-201)",
      "userId": "06301295033781781722"
     },
     "user_tz": -360
    },
    "id": "m1C6ds-D1Dub",
    "outputId": "cce59096-c8a3-4d96-fe49-e0066a85444e"
   },
   "outputs": [
    {
     "data": {
      "text/plain": [
       "array([[0.65258293]])"
      ]
     },
     "execution_count": 13,
     "metadata": {},
     "output_type": "execute_result"
    }
   ],
   "source": [
    "# Coefficient\n",
    "m = reg.coef_\n",
    "m"
   ]
  },
  {
   "cell_type": "code",
   "execution_count": 14,
   "id": "D7wr7lfw1ONz",
   "metadata": {
    "colab": {
     "base_uri": "https://localhost:8080/"
    },
    "executionInfo": {
     "elapsed": 424,
     "status": "ok",
     "timestamp": 1739601839430,
     "user": {
      "displayName": "Sudipto Dey Himel (222-115-201)",
      "userId": "06301295033781781722"
     },
     "user_tz": -360
    },
    "id": "D7wr7lfw1ONz",
    "outputId": "0a3e0b66-0e2e-46e1-aa1e-71f8a01d2a69"
   },
   "outputs": [
    {
     "data": {
      "text/plain": [
       "array([5405.87555702])"
      ]
     },
     "execution_count": 14,
     "metadata": {},
     "output_type": "execute_result"
    }
   ],
   "source": [
    "# Y intercept\n",
    "c = reg.intercept_\n",
    "c"
   ]
  },
  {
   "cell_type": "code",
   "execution_count": 15,
   "id": "qIHH-yLK1YFj",
   "metadata": {
    "colab": {
     "base_uri": "https://localhost:8080/"
    },
    "executionInfo": {
     "elapsed": 4,
     "status": "ok",
     "timestamp": 1739601841250,
     "user": {
      "displayName": "Sudipto Dey Himel (222-115-201)",
      "userId": "06301295033781781722"
     },
     "user_tz": -360
    },
    "id": "qIHH-yLK1YFj",
    "outputId": "53392ebe-2258-4cf4-d3e8-590402b0174f"
   },
   "outputs": [
    {
     "data": {
      "text/plain": [
       "array([[16173.4939759]])"
      ]
     },
     "execution_count": 15,
     "metadata": {},
     "output_type": "execute_result"
    }
   ],
   "source": [
    "m * 16500 + c"
   ]
  },
  {
   "cell_type": "markdown",
   "id": "7-uCF91iPbAv",
   "metadata": {
    "id": "7-uCF91iPbAv"
   },
   "source": [
    "Prediction"
   ]
  },
  {
   "cell_type": "code",
   "execution_count": 16,
   "id": "qMWI4XEo1ikX",
   "metadata": {
    "colab": {
     "base_uri": "https://localhost:8080/"
    },
    "executionInfo": {
     "elapsed": 455,
     "status": "ok",
     "timestamp": 1739601843739,
     "user": {
      "displayName": "Sudipto Dey Himel (222-115-201)",
      "userId": "06301295033781781722"
     },
     "user_tz": -360
    },
    "id": "qMWI4XEo1ikX",
    "outputId": "66a5d608-f412-4cb7-9c65-843fb1f8234d"
   },
   "outputs": [
    {
     "name": "stderr",
     "output_type": "stream",
     "text": [
      "c:\\Users\\Lenovo\\AppData\\Local\\Programs\\Python\\Python312\\Lib\\site-packages\\sklearn\\utils\\validation.py:2739: UserWarning: X does not have valid feature names, but LinearRegression was fitted with feature names\n",
      "  warnings.warn(\n"
     ]
    },
    {
     "data": {
      "text/plain": [
       "array([[16173.4939759]])"
      ]
     },
     "execution_count": 16,
     "metadata": {},
     "output_type": "execute_result"
    }
   ],
   "source": [
    "reg.predict([[16500]])"
   ]
  },
  {
   "cell_type": "markdown",
   "id": "y68aut5pPfO2",
   "metadata": {
    "id": "y68aut5pPfO2"
   },
   "source": [
    "### *Visualization with best-fit line*"
   ]
  },
  {
   "cell_type": "code",
   "execution_count": 17,
   "id": "NRbDDtSJ1mo2",
   "metadata": {
    "colab": {
     "base_uri": "https://localhost:8080/",
     "height": 467
    },
    "executionInfo": {
     "elapsed": 1485,
     "status": "ok",
     "timestamp": 1739601876257,
     "user": {
      "displayName": "Sudipto Dey Himel (222-115-201)",
      "userId": "06301295033781781722"
     },
     "user_tz": -360
    },
    "id": "NRbDDtSJ1mo2",
    "outputId": "e043809b-1ef0-493b-85d4-96d9323c88e1"
   },
   "outputs": [
    {
     "data": {
      "text/plain": [
       "<matplotlib.collections.PathCollection at 0x1f88e647e60>"
      ]
     },
     "execution_count": 17,
     "metadata": {},
     "output_type": "execute_result"
    },
    {
     "data": {
      "image/png": "[encoded data removed]",
      "text/plain": [
       "<Figure size 640x480 with 1 Axes>"
      ]
     },
     "metadata": {},
     "output_type": "display_data"
    }
   ],
   "source": [
    "plt.plot(x, reg.predict(x))\n",
    "plt.scatter(x.mean(), y.mean(), color = 'red', marker = 'o')\n",
    "plt.xlabel('Starting (USD)')\n",
    "plt.ylabel(\"Ending (USD)\")\n",
    "plt.scatter(df['Starting (USD)'], df['Ending (USD)'], color = 'blue', marker = '*')\n",
    "plt.scatter(df['Starting (USD)'], reg.predict(x), color = 'red', marker = 'o')"
   ]
  },
  {
   "cell_type": "code",
   "execution_count": 18,
   "id": "FtJoO0gi2L9r",
   "metadata": {
    "colab": {
     "base_uri": "https://localhost:8080/"
    },
    "executionInfo": {
     "elapsed": 342,
     "status": "ok",
     "timestamp": 1739601891269,
     "user": {
      "displayName": "Sudipto Dey Himel (222-115-201)",
      "userId": "06301295033781781722"
     },
     "user_tz": -360
    },
    "id": "FtJoO0gi2L9r",
    "outputId": "6280f739-9ff1-4028-f47e-4fc905da128f"
   },
   "outputs": [
    {
     "name": "stderr",
     "output_type": "stream",
     "text": [
      "c:\\Users\\Lenovo\\AppData\\Local\\Programs\\Python\\Python312\\Lib\\site-packages\\sklearn\\utils\\validation.py:2739: UserWarning: X does not have valid feature names, but LinearRegression was fitted with feature names\n",
      "  warnings.warn(\n"
     ]
    },
    {
     "data": {
      "text/plain": [
       "array([[16369.26885625]])"
      ]
     },
     "execution_count": 18,
     "metadata": {},
     "output_type": "execute_result"
    }
   ],
   "source": [
    "reg.predict([[16800]])"
   ]
  },
  {
   "cell_type": "markdown",
   "id": "IK2PFbZN7FPy",
   "metadata": {
    "id": "IK2PFbZN7FPy"
   },
   "source": [
    "# ***Loss and Cost Function***\n",
    "\n",
    "*Loss = actual_y - preducted_y*\n",
    "\n",
    "*Cost = average of loss function*\n",
    "\n",
    "Cost Function:\n",
    "1. MAE(Mean Absolute Error)\n",
    "2. MSE(Mean Square Error)\n",
    "\n",
    "![image.png](data:image/png;base64,iVBORw0KGgoAAAANSUhEUgAAAiwAAACLCAYAAABC8cKWAAAAAXNSR0IArs4c6QAAAARnQU1BAACxjwv8YQUAAAAJcEhZcwAAFiUAABYlAUlSJPAAACrOSURBVHhe7d13dBRVGwbwZ7ZkUwgJPQIBpIReQwel9xqkhiooHRFRxAIIgoDSBQQEQQSkwwcIQhCUGook1FASQpEiLZFkU3f3/f5ICMlmUwlkos/vnDk5JzO7e+fO7Mwzd+7cVUREQERERKRiGut/EBEREakNAwsRERGpHgMLERERqR4DCxEREakeAwsRERGpHgMLERERqR4DCxEREakeAwsRERGpHgMLERERqR4DCxEREakeAwsRERGpHgMLERERqR4DCxEREakeAwsRERGpHgMLERERqR4DCxEREakeAwsRERGpHgMLERERqR4DCxEREakeAwsRERGpHgMLERERqR4DCxEREakeAwsRERGpHgMLERERqR4DCxEREakeAwsRERGpHgMLERERqR4DCxEREakeAwsRERGpHgMLERERqR4DCxEREakeAwsRERGpHgMLERERqR4DCxEREakeAwsRERGpHgMLERERqR4DCxEREakeAwsRERGpHgMLERERqR4DCxEREakeAwsRERGpHgMLERERqR4DCxEREakeAwsRERGpHgMLERERqR4DCxEREakeAwsRERGpHgMLERERqR4DCxFRjhSDu8e24eB1s/UMon8lBhYiohwm7NJmTOxSFRUaDcbKc7HWs7OXJQRXD/+KgxcfwxL3D4RcPYo9uw/j6j9x/yHKDAYWIqKcIswPPwxvijcGrsG1J+EIt+ig11kvlH1MN7ZhTPPG6DKgF1rU64nvgoKxbUwLNO3+Lt55qzE8W8/AOZP1q4jSh4GFiCinsNMh/5vT4XN0O1YMqwdHBYBivVB2MeP2yQCUmHwAJxd2hVvUNWz58CP41PoOx/1PY0mvgojw98WZSOvXEaUPAwsRUU5hqIyOPeuggNZ6hhpo8Xr3TzH6jTwICbqOR6a/8bTKeMzx9oA9zAh/GgElnxvc7KxfRxnxj9/3GN6hGZq16oOp++/iv9SDSRERsf4nERGpW8SG7nDrfRjd/heMFe3srWenznQBi/oNx7qbL3C6s6uH8TtmoYOz9QwjtvUtgW67G2H1tc3wzgsg5ijGVm6Mxe7zELRvBArzUjkTwuD//Uj0GbsGASiKUrkfIuhBXjT7dCVWTWiBwqoMsVmLuw0R0X+NrhyaN3TEFd9jOHbsOE7czINm/QZgwICUpv7o/VZLeBYKx+WTx3Hs2DEcO34Jf9vqjxJzHsf/DIWuWmM0co37lzn4EI4FKyhdpw4K8qyTcWHnsOLtBmg85hDc+i/CH5ev4erVC/hlWgv8s9QLddp8AZ+7LxA+cwqh9DMZJTzS+p9EpH5GCTda/y9nM67vJs5aNxm4K5MHJVOwrPRyEy0g0OSRZvMuSaz1MslEyvm5zSWvBgJDG/n+ifV8EfONedLYoJMKH/tKdPz/Hq/sKLm0bjJwZybL+p9mkotzukqLwfNkf3Dy+jOHnJMNE7tJy9E7JMR6ZoaY5P6R72TMW42kRsWK4tm0r0zZeT1hG6oBs256mW9gwyBPVPSaD3+j9UyirGSB8eFt3Lp9B48jrOdRhlme4PfPm6NCk4/x20M+VptAWwL9Fs5HT3cdFEsIDn4xHPMvxFgvZcUelUZ+g5FV9Cn29Y046YuzJldUr10Jcd1VTLgdfAvR2nKoXNmE88s/xdyj4dYvy3pRd+C7dTfO5fjjtRYVxmzCvqWj0axE8lt/GtfK6D55I/bO64D4Bq0kYgJ8sPnIDaRVDZYHG/Ferxk4X6wLxn4xHt3czmBmdy9MOZHWPvHq5NjAEnHHHwf/tx6rV67Cmo07sP/4Bdz+x1b7ZBawPMGBj70waPVVPDWGIYrHvJRF3IH/wf9h/eqVWLVmI3bsP44Lt//BS9oy/1Jh2DiwDIoXL4vB25lYXpg8xb3gv3Hv1Cx07zEH/lHWC+REMbgZeAtRlnDc/evZeCcZpyncFXMXDUBJvQJL6CFMGTYX59I6P+kqoWvnKrD9NHUM/I+fQZiuMmrXcoj/nwZFK1VEAYsvpjerg2G+HmhZPZfV67KQ5SGOL34XDUpXQo/5e3H5bzNguY9N77dC06ZN46dmaDthb6KTuAX3No5Gq4T5TdGi32JcyM4DV5aU2YJH1w5g6YDqKF1rAOYdup9iJ11NwR5Ycf489s55D95d++DjZV+hm2sAdu48r57jt3WTyythviPfNnMQrVYrdmVGy+9RSWebrs+TJrl0otXqxe3tHZK4ESzs/BoZ06qM5NYqAiDJpBgayjfXTImWFnm0rI04arWiTWmyrytfBSR9TVJmubmmuxTRKaIvPUi23zNbzc78uvyrhJ2XNWNaSZncWlGstgsUgzT85pqkVsuUWKj80N4gUJyky9oXvY/xSJa1cUy+3yea7Ot+Jal+Bf4NIv1kZmNX0SgGKTdqn9i4k5EzmO/KmkGeUv71/OKgiTsGKrrcUtijstQetU2eWi+fLiGyf3QFMSgQKM5Sb+oZsTqMJWMK3CfLl+2SS2ktmCBSbp3+XY5cepSO204vICpAVnp7iKNrDRm65qKEJcwwy9MLS8WriFYARew8P5EjD5KWxPz0rHxZ304UKOJYcZD8eC5ErI72r1gWljkyULaOrS/5HV6XLt+dk3QdVaJ+k+El7KTyZ6df7jbLgOwJLKYA+aqOPu5kpi0uw3wSn8ZNEvBV3bgvDxRx6rI2oXKjLyyQlgW0oih2UrhWNxk5cabMWzBfvpk6UT4a5i2tG/aWJdeTHnkfLGklBkA0+cpKvfr1pb719OYg+fFGykdr881V4lVII4qhsnx4yMbhIJPr8q8SfUEWtCwgWkURu8K1pNvIiTJz3gKZ/81UmfjRMPFu3VB6L7nOwJJuWRlYHsiSVgYBNJKvbL3k+3/9+vLmoB8lla/Av4YpeIV0KqgRRV9Ghu3JsZHl5Qg7IuOrO4gCiOJUW744lQMvrcwPZNfQsmKwrySjfn1g48QdK6c/qyJ6KGLf/ofk/T0iD8sHZXWiLeIlK66p5RSdlWUOlcOf1hRnfUkZsPmujfpJKmTPECllKCtjj6Q7lb502RNYYk/Jp5X0oi1STIrotFJk0C8SnjDPTyZW04u+RCkppoMYWi+VRyIi8lS29i0kGmjF3XuD3EmrtuPFBRZF7Dv/lImwECK7BhUXraKTMiP22756ydS6/Ls83dpXCmkgWndv2ZDeDUOpeAmBRbGXzj+96HvldCYJXNhCXDWK2HtOlNNq6k2oApGnv5R6zooAijh6ThDfHLa7PNn1jryu00uFDw8/PwZbiT4xXirqINriw+W3JOfhSPGbVl9yO1aWMfufpHkyf5WytMxRZ2SSp71oi/SWTX+n/IrYwB+le3EnKTd8tzxKebFXLnv6sFiMCIuwQFO0JVpX0uDe7o3YH98HK+b0Omy8oMDzrc4oqQEkIhxhFgAxl+B7+jEsGlc06trxlTzHbw5ahdnrb0FcWmDsuCZINtwAMrkuSRgR6LMEE4Z6o0vHTujabyS+WH4QN1K4zx5x+xR2rPgan44YgO5eHdCuQxd4D/4E87acxWPr97Y8ht+OtViz6RjumAHLw1NYO2U4vL06wqvXUExadQIPUrqhmW4xuOR7Go8tGrg26oqOGd4wYbiy5ztMHN4HXTq0R8eufTHss1lYNH8KPhg6F4ejny9peeyHHWt/wtpfziHEel3Nt3Fs0xr8tO43XE30GmS0zgBEBx7Aup/WYs+FfwAAxsA9WDBuILp26oxew6ZgnV9Iin0GjIE+WDJhKLy7dESnrv0w8ovlOJjSxowXcf0AVnw5GgO6d0aHjl3Qe8gk7Lye0ie8AtGBOLDuJ6zdcwH/AIAxEHsWjMPArp3QudcwTFnnl6z+M19nMbjruw4zPxiIHl4d0alrX4yYtAS/XrXVKTMagQfW4ae1exD3MUYE7lmAcQO7olPnXhg2ZR38rAuWhBal3p6At8toEe23FHN2hFgv8J9m7zkOyyY1hqtGEHFmFoZ+eTTNjpqqYb6EpdPW4qZDY4wYVR9O1vPj2VVrjabFtDDfPYT9iX4jIPTg5+g/LQCek9dgerM8qurcmaVlNlTFsFGtkfveJkxb6Gezb4rpxga8224kfGvMxdY5bZAvXW/8ilgnmFcicqcMdNOI/o2Zsv2TKqLXFJTem0NFJFIOjCwpOkN9mXFiibQxQPSeX8i5WBGJPSsTq+sFil6qfXoy3a0lmW9hiZWzk2qIXtGIW58tEmo9+5nMrEvCay/I994ekkuBKPrcUqhwQXHWKwJoxLnSIFlvdXtLoo/Jh+V0yfruxPUTsZOiHRfLhcQJPNpXxpXXieLaQ346vlA6lzAk7V+iOEj5ES+aoGPl7MTqooci+mqfyskMVLL5yVH5un1xsVcgis5R8hYuKq+5GkSjxPdJcuoiiRsYon3HSXkdRF91gvhZt35Gbpd+BTQCu+ay+H6iFcponSXsM3qpMemMBKx7R6q6aJK8TnH2lE8OPb87HidSLnzvLR65FIGil9yFCktBZ70ogGicK8mg9bZuiYXKyXleUtIheX+suPJlUwvLgyXSygDR15gkZwLWyTtVXUSTpFzO4vnJoUT9AzJZZ9GB8vPgauJqqz+afUnpstAvyWckrIu+hkw6EyDr3qkqLprEr1PE2fMTsf6YpExyaVodsVMUyd1+hVh3SfvPM12T79oWEA0gin1l+fAPm+3KqhPt+7FU0Cni3PEHeWA9Mwmj7BpUWLTQS60vL4pJRMx/bZDexe2kaLefVHprNIvLHLpeuufViPb1EVYtNiKmm5tkUPncUtxrqVxQ4V3B7AksxvXSzVkRu8Zz5br/F+Kp10i+7j/L47BfZFARrTg2mS/BT38SLwdFdOU+lGPREncvb2KNuJObvoi0+HyrBKR6YIqT6cBiCpBpdfSiaPKL9+ZUPihT6yIiEiL7RniIXtGLe8fZcuR+3Bk49m9f+a6Xh9grGnFpMidpZ8jYC7L8vcHy6fyf5ddj/nLlr0fy5N5l+X3Zu1I9t0agcZWOP9x7vvyzwKJzk6KF9WJf2ku+2nle7v59Q44s7Col9Ioo9m/K7MCM7vFJxZ6eKDXs407URVp8LlvTs2HMt2R118KiVezkda9ZcvDWs29HpNw5/InU1mdRYMlonSXsM1pxb9BEPOx1UqjhaPnhUKDcu3VClnQrITpFEacWi+RWoo8J2TdCPPSK6N07yuwj9+M6qcX+Lb7f9RIPe0U0Lk1kTpKNaZY7673FXaeIxtVTBn27R87efCCP7gbKmX3fy4AK+mwPLFr3BtLEw150hRrK6B8OSeC9W3JiSTcpoVNEcWohixJVQMbrLEyOjK8mDooihhLtZOL64xL09yO5d+mgfP9eAymgVUSxKyvv7U98woxfF627NGjiIfa6QtJw9A9yKPCe3DqxRLqV0ImiOEmLRbdSbR43XZomtfUQjetbsjZLurKYJSosVEJCQlKfQsNV03kxNaYbP0qX1+I7elYYIwdSvFpTi1jxn1hd9IqdvDk7ONVtLyISurGn5NMoYmg8V4IjL8qCFvnFseJ74vM4rVdmnywts/mufNfSQRSdh3xw5Pl9UfOd7TKkgpM4VRwk3+3yER+f+Om303JLJbdPsyewhCyXtgaIXfNFci82QKbXM4gmbzf5Ye3bUljrLK2X3hGzcZP0dFVEW2yo+DxLgcazstirREInVruC1cVr7GLxCUrpjuXzwKJ9rYa0atNG2lhN7QctlQu2jiKhq8UrlyKKobksTu0yLJPrYrr8tTSwV0RbfJDstD5ohh+U98roBDoPGXs0PXtKtJwYX1F00EjBATsS/TsusACK2Jd/V7b+leiEaQqSWQ3tRFFcpPuGdJ7IUmSUs4u9pIQh/qkFu4JS3WusLPYJSvFectThMeKhg+g83pOD1guF/iDtDVkUWFKUQp0l7DMQKFpxaz1P/BKVz3R5utTVQzR5esmmZ2UzXZavG9iLoi0ug5JvTDn4XhnRQSceY48+H4Qp6riMq6AXResufbf8bXWQfRl9WLTyWo1Wyfb/Nm3ay6ClF5KeSOMDC6CI1q21zEtaATK9rl6gySO9Eiog43VmvrFIWjorojjWkSl+1pdyIbJvWBnRKYrkbrNU/kqonGcdiCGK1k1az/NLtH+Z5PL0uqKHRvL02pT6xUn07/JeKZ1AV1pG/5Ge71caYs/I51XiO96nNhk6yMoc0WBhlrub+kpxnSJQ7KTcKJ/knT1V5YF839ZBFG0RGfxrOjqIPlgpHXMrojg1kaFDakgu1zdlRrJ9UGWytMzR8sfo0qJT7KTR3BsJx57IXQPFLUmLZfxk11S+VUnfxGy5O2V5Go4IARQ7Awy6MujRvR4MoXsx+bOdeODcDD07u0GjMcDeoECM4QiT+Bc6VsGwzadxeMWH6FjBFZaHftg2ezhali+Fmn2mY+/NlAYQEJjvncHePXuwx2r69Y8APLFx29sUHIjgaIGmUGmUyZNyNWVuXcwI2r4NJ6M1KNquF1rksXpTp7poVj8vNKZgnDx+J8Xn5p+zg0eZEtBCYHwaZj0T0JXCu4vnwatIoh+b0BZGyeK5oEgUQkNe9E61I6oM24zTh1fgw44V4Gp5CL9tszG8ZXmUqtkH0/feRNItE4Ozu/biukmHsl16o2FKN5xfqjTqDAr0HoOxas0oVEtUPq17KRR3VGCJeIzH8dVmDtqObSejoSnaDr2Sb0zUbVYfeTUmBJ88jjvxGzPmz83439VYaEt1w5D2BdN3//lFiBn3zuxNtv/v2fMr/gh4YrN/iaL3wOBVazAqaQWgVHFHKJYIPH5WAQnSW2cW3NmxBYfCAedmQzCkivVgWK5oMrwPquoEYcf24Y9kH6OHx+BVWDOqWqK+Clq4lyoOR8WCiMePU+97oSuHcq9rAPNfCArKgnFulNzwaNgabdq0SX1qXQNFM/l7L4qiZGh6MRq81mUuFg0sDT1icGXZNKy6YWsPUYmYYATdjIVoiqB4cdujwySRrwVa1rYHjAexdPnfaDX/R3xYzXofzAgzbh/bgvU//4yfMzRtgM8lW8ceG7K0zDoUK14YGjHjZmAQYuP/a99uBe6ZBfENGc+n6N8wMsN9E18S6wTzKpgufik19Yo4dP5JwkXEfGuxtMwV13cjf4/1cWMkRPnIUHetKI5e8pP1FbiIiDlELu2aL6PbV5A8urie7foi7WXR+aQJO+GWUPvv5Z51E21IiIQ+jbTRt0Ak6sAIKaGF6Ct/Jqesr+YTydy6RMr2fgVEA43krdhMOnToYDW1lwYlnUSBTiqOP2HVjBwm1w/+KF+PHyb9e74lXh07SocOHaSt52uijX90OsGzFhZ9VZmQvEkivgx20nzxfat5L8IsIZd2yfzR7aVCHl3cY5L6ItJ+0flEYzuEysoODqIoDtLpRxuXnFnewpKBOku0z+R6a52NK/VYMYaGSkhoeEJrSeT2flJAA9HkrSjNkm3LDtK+QUlxUiC6iuPlRHy5nyxvK/aKIg4dV9noH/UyWljspf3395Lt/yEhofI00uobEN/CouR6S9bZ+PhYY6iEhoRKeKLGiYzVWZTsG+IuWuil+kR/27dJIrdJ3/wagb6OTEu4lfZsXXLJW7YLJqGhIRKauGA2GWV9t9yiIH23ENQg2VVvGlNWMF34UmrZKWJXdpT4JN9J1SNqt7xTRCuwayILnjfHpSJajn1YNq51tfvPYvthmUg5NL27dOoxUw6n2WhjlI09XJOPP5XmpJfaUy9Zv1kK0lNmEYk8JNO7d5IeMw+nOpbO4+/biAGKuPZMozVSZbIlNpnD41ol7OzsoADQFOmCnk1zQ9EUQtuebZEHAJT4VgmTEeFGG+le44ry7d7DvJ3ncOXwfHQrbQfTnV/wyfvLEGSrSUJnj9yurnC1mlyc7WHzosciEACwWOL+piBz62JBZEQUBALj3QD4+flZTf64GZMHRYoWhZtrohRt9Me3XaqiYtP+GDdzGTbuPYaTZ87Az88PZ2+E2rxKfvU0cC3fDu/N24lzVw5jfrfSsDPdwS+fvI9lzzaM5Sn+CTdDYICjo83azzpZXmc6OLq4wNXFKX7YccASGYEoAcR4FwHJtqUf/G/GIE+Roijq5oq4rWlBWJgRFgEMTk7QJ3n/l0dnnzvZ/u/q6gJn+4xtA52jC1xcXeD0rALSZF1ngnBjBASAY65ctod4VxzgYK8AiEVsbGrfwER0jnBxcYVLOgqm0cR96ou3RgBANB7fvIorV66kPl29a+MpwfRJdtWbxvTCos9j3qg5OKOvgY9++ArNXawXUBExwRQrAHTQpaOBBfgHlwJuw6zYo0azJshv6yxouoi9P2/D7uuxyJvme9qj5czD8Pf3z+B0GmvfLWn9ZilIR5kBmC7uxc/bduN6bN4URiKOo4+vKFPss/aVnCGF1X65JDwcEaJAb7CLK4CmELrP3YM9u/+HqW3jHx7WGGBvACBGhCXcE7JFiwJ1R2HV8iEoHd+EfOip9TIZp3VxRW4NYAl9iEe2AlC8zK2LFrldnKFAhwqj9iD49m3ctjkFY//Hz4bANsF/1jsYtz0YljK9scz3DkKf3MVf8cte/KZZwglULbQF6mLUquUYUloHCTuGfc82jMYRDnYKgGiEh9v4wlgsmQgStryaOtPmdoGzAugqjMKeYOtt+HwK3v8xqugAQAMnR3soAGIiImze8suKc456KcidOxcUCJ48fGhz/RH1EA//sUDR5EWBAll9mDLiSWgURNEjT/68L34QNF3CvI6VUK5cudSnKkOxJdV7VWoRhiOTB2DiIcGbk1diQv2XOIx+VlAcYG+vABKFiIh0fHGi/8QJ/2iIrhzq1M1ne/vrymL4Rn+c3TIS5dLM8xq4FK+EKlWromqGpiooXdBg/Wa2pafMAHRlh2Oj/1lsGVnO9oU4AMACY0QkBAoMDvYpvpcaZUtZn53k7ewMCVdXTiXroVWrWnBPOIM4wN6gAIhAeHjaO6GhUCHkVeKO9GkvnTZdqTIooVdgfngNV+6nfPrM3LroUL5CKegUEwJPHseDlN/+OfNN+PicQxTs0fTDuXi3dqEkJ1uxpOdNsoGhEArFbZhEJ+FcKFYsP7QSi8CAAKv+LeE4+s1i/G6jO5JGZwe9Akh0FCKtVjfc7yQuWAfbV1RnuvIVUEqnwBR4EsfTtTGBXMWKIb9WEBt0BVesBkMwnpqP5YdtBLl/DT3KVywDO8WM68cO4YaNxBJ++CBORgi0pWuiZkqXk5kVcwVXgs2AtihKl0rnCSM1Sh5UbtMdPXv2TH3q/gZKvqrmtEyz4MGusRg46yxcOszBivcrIwtq6OXSFoJbAQ2AEDx+lPbR33TtJM48MENbsAbqlLVuh7Ag9OJ+bNm0B0fPX4dR75w9J0krqZcZgCUUF/dvwaY9R3H+uhF659RKbcGjRyEQaJDfzU0V65de2VJWizEcRgHsDKl8FZTnrRLh4WmdBMJw8qetOGdSoK9UB7VtjvCWQblro3YFHRB7FocOxw2GZUvm1kUL91atUM0OCP/ta4xbH2x10rYlFrEmABBERUYmaoEw4e6BafCe7JOO93j1wk7+hK3nTFD0lVAnYcMYUOuN2nBWTLi2fS2OJPQ7i8KlZf3gPcsfUTZuFGiKFEYhrQLzzZM4fvv5WS7cfyF6d/8aflHWB6tXU2da91ZoFbcx8fW49QhOx5saar+JOs4amC5vwZpEv1wbfXklBvaYBt8wsVED/xYauHXoisa5gWjfbzFh/Y2krSyhh/HVFxtw1+IAT+/eqGHj+PwizDeOwjfYDI1LDdSpnAVtbNoS6D5jjY1OlVbT6o/wZmb7Sb4i5htrMHzoD7jh3g+LvuuP11O+TFcP3esoX9oJGtNtBF23GjUyGQseHD6CSyZA61EFVWwESMFTHJrZHz28p2JfqPUxJTukXWZAgKeHMLN/D3hP3YfUi23C9eu3YVYMKFPeI0tamV+VbAkskeFGmESBnSGu34dNSnyrRPxtFMvthehQuiZaew/DuEnTMXv+QixetADfTB6Lfk2rocX0PxFlXwFDp45ABRsHuNij09GqUSM0sp6aDsWamzYu8bQeaNemAvR4it+37kqxFSQz6wIAuorDMXVIeRhM17Guf014dhiCz2fMx6LFi/HtnBmYNG44BgxeiNPPTn7aknijXgnoEI1DU7pgwMTZmD9rIoa0r4pKrSbhhL4oXLNja1puY2GH0qjZ2hvDxk3C9NnzsXDxIiz4ZjLG9muKai2m488oe1QYOhUjEm2YfJ2HoVdJPczXlqBP23cxedZ0fNStLhoM3wV9t3fQyjV5bWoKNEPr2g5A5GFM6eKNz2bNw/QPuqBOk/fhk6sFmpWx2vCvqs50FTF86hCUN5hwfV1/1PTsgCGfz8D8RYux+Ns5mDFpHIYPGIyFCRsTQN5OGOZdEjrzVSzu1QbvTpmNGeO6o279d7EluiWGdSuVSpNuZsTi6PRWyff/Ro3QdOga2PoKvEwa976YPKY2nC1/YdPb9VDf+yN8NW8+Zk0ahja122Lmn5FwqfMx5o6ulOq9+IwzI3DbDpwxKcjTrCOaZcXFzb9FzAUsGPQ+tj2ugFHL58DL7UW+HFE4PKMHOvf8GkfSyhAvzBH1GnrCACP8T51N/SIk5irWbTiGKFGg6O1gl2wVNchTsSlqFNVA41YNtdSQ2NIsMwBNHlRsWgNFNRq4VauVetA0BeCUfwhEVwn167taz1U36164L59Zgme/KXbQS8VPTtp+QkDk+RMBmjzivTlSzHeXSOtcGps9sRWNkxRt8LbM+f1esid+EsaHSGnS15apl6xfFcd0bba86aiI4thQvra5TObWJUHsTdk1saOUdbH1C8eKOJT/SA4leuDB/OiATGpSWOziR4IFIIq+kNQdslJOH5kgVfXZ8JSQ+a4saZ0rYXTapOugEaeiDeTtOb/LPRvVF3p0urQsEjcabNy6FJBaw9bJlSdr5S0nJdlTQiIiRr8F0rG4/fP6UvTi9saHsj3omsx6Q5/sKaEM11maT7ykJFZu7pooHcu6iDZZXSiiOJSXjxJvTBGR0GMyo1XR52VTdOJapZ8s838ipz+vKvqsfErIetskmvS1p0qS3TuNp4RsyVSdme/Lga+8pJzV/q/o84tnv2/l+BPrRyHSeEooPSIPywfldKJoi8vgX9MxwOF/Rpgc/cxTnDS5pf6Xp9K/DVMSe1o+q6IXfa2pctHGdz9jwiX4yDZZ/cOPsvlggITYeD9z8AJp6qSIvvpEOWt9qHsm6jf5uHo+0T8bSVvrLCU6LUg+Dlf0EfnAQyeO7ZanMWruK5DeMotI9JEPxEPnKO2Wp15q0+UZUs9OEbs607Jg27xaimRJl/JXwxL1EMEBAbh64y4e/ROBWMUA53xF4VHVE5Xdc72E5qJQ/PJONXRa8Rfceq/HmdVdUTDrPwQW4234+Z7Glb9CEaNzgmue/HArUR6Vy70Gp2SfZ8TtU4dw/PIDxDoWRsX6b6Daa9nczmyJwsPgAARcvYG7j/5BRKwCg3M+FPWoCs/K7siVbB0SMd7A8QO+CDI64vVaTVCvlDM0YSvRocBA/KLrgjUPtsDb0eo1Ebdx8vejuPzIAtfS9dGsfokUfzskziusM4sRt/18cfrKXwiN0cHJNQ/yu5VA+crl8FryjQnAiJu+B3E8MAwOxTzRqKFH1rT65CCW8Jv48+hpXPvbCCV3UVSoWx9V3V7G9jEjaGFr1Bz9G8yNZuOUzxiUTe1K9D/Dgoe/DEdDr+UIaf4tDu8YBlvdJJIID8SRP27CpXYTVLbZKTocd6/cwj+ORVDW3SXzx+aoc1js3QUz7zdC/7b5cXHdMhwtMBobt3+BN5MMefQEm/tUQs8NuTBivz/mN7I+aKSf5eY8NPUYh6fjT+Hk5KpZ3ML3slhwc15TeIx7ivGnTmJy1ZRKHYOTn3qi4cy7aLfiPLYMKJz5bZMdrBMMJWW6sVK8CmlE0b0uA7dbj0hKL0UK47AQvQhT0DJpX0AjioOnTDyR2VFC/31MN1ZL1yJa0bn3lHWJf28iFVE+Q6WYvoy8b91qKGYJueAjmzdulI2bdsqp1EYJT1OsnJtaR5wKdJU18QOPxF6YKrUNeik39kiycUZMV76V5nm04vzGTDlvowUivcI29pQ82kIyYEdO2kfCZGPPPKItNEBSK7bp+lJpl08rzvW/En/rTZcD5KhwlR20xfth3qy3UFhu4MfhQ7EqyNbvWxKRqhlPY0b/j7D7kRPqjP8OH9d+GS04OVDMRXw78H1sfVgag5ctRA/39JwSTAg4dBz34AwXl+TLp9Rp1XLfD7/u2omdO1OZfjmBW886ocT8iTVrz0Bqt0Gb+KZtXdlOaFcJCPzfZpy06qyi9RiGZQu6Iq/vFPT+YDf+TqHfYepicPHPcwjXV0YtzxzUHTXmIv48Fw595VpIqdiWkCOY0udj7DO0xTcrxqJqCsupmnWCIVueyMFxNcRJUcSxyvuy78V+3pjSwhYWykqmIPmxW3HRKzpxf2uVvOBvfWYr85MrcmjPAbnw7BhkfiJXjuyWXw5dkdAMH5bC5NjnnuKkcRLPz49Z/TJ2yky3fpZe7lqBXSOZe9PWh4bIqk5OonUfIvsSNYMYN/US12T9u6wmQytZEt8Fw3xvkTQ3aKXYUJ9ErSnxoxQbWsoSm8O9RkrA6kFS2cVRSnX6UnYFpnetnjHKxh4uoi08SH4xPpCDMyfI6ms5YIcxbpQeLlopPOgXMT44KDMnrJbnxY6Wv36fJ30quUiusr1kqb+toeNzhuTxmGzIg8ZfbcOqgVVQsmotlLJxVUFZSFcQ5evVR/065VCAfQzoRWnz4PXyxVCyxXRsXdUfpXLkPmXCjW1j0LxxFwzo1QL1en6HoOBtGNOiKbq/+w7eauyJ1jPOIf3tvxY83P0RBnx9BhH6QnAOXIxhffuib6pTH/T0aoJK1fph/W0zFMV2CwtiLuJcQDQMVWqhWqLRHhy9VuJOeDjCU5ue/A/vFIhb3vLgAZ5YFNg7OSZ6AlMLF1dnaCxPEWLz2V17lOu7HL6nN2BQHh+MqtcWX1/OyCNwdihfrSLs72/E4OrNMf1pfTRP9ZEblbArj2oV7XF/42BUbz4dT+s3j39SyILbS71Qs98GSNcVOHFqHQZXTb3Hn6pZJxhKhTlWYnNA2CYia7ES+wL9GrKd6bpsmDZPDj0yyu53ioi+eBPp/NYwWXslUsS4Q95204h9h5Vi45e5bDLdXCPdith4OjEDkyZvb9lio7+E+cZcaWSXyu9EpVOs/0SprteJx5jDz3/lXKLEZ6i7aPUNZdb1dByMI41io4ipMz+Ry0cOiu/1pzmqz6L5yWU5ctBXrj+1KnVUpETmpBVJRY56SoiI6D/NcgcLW5TCe8cqYcLhI5hc0x4I+xldi/aFb49dCFrWOl0j08YcX4TRK/wSfqk3MzR5G+H9r/omG/cqfFMvFOt1EJ223cDKDs/7CsWc+BbD5x+DMbUzjr4q3l00Hk2dAcvtBWheegwu992B68vbxf8OVxS29imCbjsaYfWdrejNcXT+UxhYiIhyCuM29C3RDbsbrca1zd7ICyDm6FhUbrwY7vOCsG9Edj+mGoMT46vjjfmFMS9oL4YXfl6amGOz0H/modQDi646hv84Ga2dAUQfxMjyLfB98dm49ttoFNMAMAfi6zcrYIJlCs4eGZ+O3/mhfxMGFiKiHCLGdxyqvbEAr80Ngs/IItDAjCvTG6LypHB8dMwP02qmNP7GqxKBTT0Lo9fhrthxbTocF36L210moW/pzCSLKBwZWw1Nl7phxpnf8IGHFqaAmWhUcyZc5pzBziElsng0aFK77A3jRESUThbcO3EK11EKtWoViD94/4PjvhdgyVcb9Spld1hBFndatUfDCcsxqX4QvmzXBgNHDESbzgthGrQcS95hWPkvYgsLEVGOEI5NvYqh1/622HhjDbo4ATCdxaRatTDD9Wtc3dkMPl/tR/lPx6BBLuvXvkKWEFw5fhahhT1R6/Ws+LXjaNy/cAoX7puRv2xNVHF3yoL3pJyI252IKCeI8cfxM2HQVa6NWg7x/9MURaWKBWDxnY5mdYbB16MlqmdnWEHcD/GVbdAYdbIkrACAAW6VGqJ580aoxrDyn8YWFiKinCzqNv48cQuOleqgfD413BYiejkYWIiIiEj12LpGREREqsfAQkRERKrHwEJERESqx8BCREREqsfAQkRERKrHwEJERESqx8BCREREqsfAQkRERKrHwEJERESqx8BCREREqsfAQkRERKrHwEJERESqx8BCREREqsfAQkRERKrHwEJERESqx8BCREREqsfAQkRERKrHwEJERESqx8BCREREqsfAQkRERKrHwEJERESqx8BCREREqsfAQkRERKrHwEJERESqx8BCREREqsfAQkRERKrHwEJERESqx8BCREREqsfAQkRERKrHwEJERESqx8BCREREqsfAQkRERKrHwEJERESqx8BCREREqsfAQkRERKrHwEJERESqx8BCREREqsfAQkRERKrHwEJERESqx8BCREREqsfAQkRERKrHwEJERESqx8BCREREqsfAQkRERKrHwEJERESqx8BCREREqsfAQkRERKrHwEJERESqx8BCREREqsfAQkRERKrHwEJERESq9398d56OokT2WQAAAABJRU5ErkJggg==)\n",
    "\n",
    "\n",
    "\n"
   ]
  },
  {
   "cell_type": "code",
   "execution_count": 19,
   "id": "u0ho6-jU6z7C",
   "metadata": {
    "colab": {
     "base_uri": "https://localhost:8080/",
     "height": 425
    },
    "executionInfo": {
     "elapsed": 365,
     "status": "ok",
     "timestamp": 1739601895491,
     "user": {
      "displayName": "Sudipto Dey Himel (222-115-201)",
      "userId": "06301295033781781722"
     },
     "user_tz": -360
    },
    "id": "u0ho6-jU6z7C",
    "outputId": "561a5368-e950-4ad2-8209-940b6e0a4ebb"
   },
   "outputs": [
    {
     "data": {
      "text/html": [
       "<div>\n",
       "<style scoped>\n",
       "    .dataframe tbody tr th:only-of-type {\n",
       "        vertical-align: middle;\n",
       "    }\n",
       "\n",
       "    .dataframe tbody tr th {\n",
       "        vertical-align: top;\n",
       "    }\n",
       "\n",
       "    .dataframe thead th {\n",
       "        text-align: right;\n",
       "    }\n",
       "</style>\n",
       "<table border=\"1\" class=\"dataframe\">\n",
       "  <thead>\n",
       "    <tr style=\"text-align: right;\">\n",
       "      <th></th>\n",
       "      <th>Date</th>\n",
       "      <th>Starting (USD)</th>\n",
       "      <th>Ending (USD)</th>\n",
       "      <th>predicted_y</th>\n",
       "    </tr>\n",
       "  </thead>\n",
       "  <tbody>\n",
       "    <tr>\n",
       "      <th>0</th>\n",
       "      <td>01.01.24</td>\n",
       "      <td>16800</td>\n",
       "      <td>16500</td>\n",
       "      <td>16369.268856</td>\n",
       "    </tr>\n",
       "    <tr>\n",
       "      <th>1</th>\n",
       "      <td>01.12.23</td>\n",
       "      <td>15900</td>\n",
       "      <td>16100</td>\n",
       "      <td>15781.944215</td>\n",
       "    </tr>\n",
       "    <tr>\n",
       "      <th>2</th>\n",
       "      <td>01.11.23</td>\n",
       "      <td>15800</td>\n",
       "      <td>15300</td>\n",
       "      <td>15716.685922</td>\n",
       "    </tr>\n",
       "    <tr>\n",
       "      <th>3</th>\n",
       "      <td>01.10.23</td>\n",
       "      <td>16100</td>\n",
       "      <td>16200</td>\n",
       "      <td>15912.460802</td>\n",
       "    </tr>\n",
       "    <tr>\n",
       "      <th>4</th>\n",
       "      <td>01.09.23</td>\n",
       "      <td>16300</td>\n",
       "      <td>15700</td>\n",
       "      <td>16042.977389</td>\n",
       "    </tr>\n",
       "    <tr>\n",
       "      <th>5</th>\n",
       "      <td>01.08.23</td>\n",
       "      <td>16800</td>\n",
       "      <td>16400</td>\n",
       "      <td>16369.268856</td>\n",
       "    </tr>\n",
       "    <tr>\n",
       "      <th>6</th>\n",
       "      <td>01.07.23</td>\n",
       "      <td>15900</td>\n",
       "      <td>16200</td>\n",
       "      <td>15781.944215</td>\n",
       "    </tr>\n",
       "    <tr>\n",
       "      <th>7</th>\n",
       "      <td>01.06.23</td>\n",
       "      <td>15800</td>\n",
       "      <td>15500</td>\n",
       "      <td>15716.685922</td>\n",
       "    </tr>\n",
       "    <tr>\n",
       "      <th>8</th>\n",
       "      <td>01.05.23</td>\n",
       "      <td>16150</td>\n",
       "      <td>16100</td>\n",
       "      <td>15945.089949</td>\n",
       "    </tr>\n",
       "    <tr>\n",
       "      <th>9</th>\n",
       "      <td>01.04.23</td>\n",
       "      <td>16300</td>\n",
       "      <td>15800</td>\n",
       "      <td>16042.977389</td>\n",
       "    </tr>\n",
       "    <tr>\n",
       "      <th>10</th>\n",
       "      <td>01.03.23</td>\n",
       "      <td>16200</td>\n",
       "      <td>16200</td>\n",
       "      <td>15977.719096</td>\n",
       "    </tr>\n",
       "    <tr>\n",
       "      <th>11</th>\n",
       "      <td>01.02.23</td>\n",
       "      <td>16300</td>\n",
       "      <td>15700</td>\n",
       "      <td>16042.977389</td>\n",
       "    </tr>\n",
       "  </tbody>\n",
       "</table>\n",
       "</div>"
      ],
      "text/plain": [
       "        Date  Starting (USD)  Ending (USD)   predicted_y\n",
       "0   01.01.24           16800         16500  16369.268856\n",
       "1   01.12.23           15900         16100  15781.944215\n",
       "2   01.11.23           15800         15300  15716.685922\n",
       "3   01.10.23           16100         16200  15912.460802\n",
       "4   01.09.23           16300         15700  16042.977389\n",
       "5   01.08.23           16800         16400  16369.268856\n",
       "6   01.07.23           15900         16200  15781.944215\n",
       "7   01.06.23           15800         15500  15716.685922\n",
       "8   01.05.23           16150         16100  15945.089949\n",
       "9   01.04.23           16300         15800  16042.977389\n",
       "10  01.03.23           16200         16200  15977.719096\n",
       "11  01.02.23           16300         15700  16042.977389"
      ]
     },
     "execution_count": 19,
     "metadata": {},
     "output_type": "execute_result"
    }
   ],
   "source": [
    "df['predicted_y'] = reg.predict(x)\n",
    "df"
   ]
  },
  {
   "cell_type": "markdown",
   "id": "_gfnJj8p9VxP",
   "metadata": {
    "id": "_gfnJj8p9VxP"
   },
   "source": [
    "Calculate loss"
   ]
  },
  {
   "cell_type": "code",
   "execution_count": 20,
   "id": "ppRWjplB9JVm",
   "metadata": {
    "colab": {
     "base_uri": "https://localhost:8080/",
     "height": 425
    },
    "executionInfo": {
     "elapsed": 376,
     "status": "ok",
     "timestamp": 1739601899085,
     "user": {
      "displayName": "Sudipto Dey Himel (222-115-201)",
      "userId": "06301295033781781722"
     },
     "user_tz": -360
    },
    "id": "ppRWjplB9JVm",
    "outputId": "7d5a02bd-91d4-47a4-a9da-0e21a1be8459"
   },
   "outputs": [
    {
     "data": {
      "text/html": [
       "<div>\n",
       "<style scoped>\n",
       "    .dataframe tbody tr th:only-of-type {\n",
       "        vertical-align: middle;\n",
       "    }\n",
       "\n",
       "    .dataframe tbody tr th {\n",
       "        vertical-align: top;\n",
       "    }\n",
       "\n",
       "    .dataframe thead th {\n",
       "        text-align: right;\n",
       "    }\n",
       "</style>\n",
       "<table border=\"1\" class=\"dataframe\">\n",
       "  <thead>\n",
       "    <tr style=\"text-align: right;\">\n",
       "      <th></th>\n",
       "      <th>Date</th>\n",
       "      <th>Starting (USD)</th>\n",
       "      <th>Ending (USD)</th>\n",
       "      <th>predicted_y</th>\n",
       "      <th>Loss</th>\n",
       "    </tr>\n",
       "  </thead>\n",
       "  <tbody>\n",
       "    <tr>\n",
       "      <th>0</th>\n",
       "      <td>01.01.24</td>\n",
       "      <td>16800</td>\n",
       "      <td>16500</td>\n",
       "      <td>16369.268856</td>\n",
       "      <td>130.731144</td>\n",
       "    </tr>\n",
       "    <tr>\n",
       "      <th>1</th>\n",
       "      <td>01.12.23</td>\n",
       "      <td>15900</td>\n",
       "      <td>16100</td>\n",
       "      <td>15781.944215</td>\n",
       "      <td>318.055785</td>\n",
       "    </tr>\n",
       "    <tr>\n",
       "      <th>2</th>\n",
       "      <td>01.11.23</td>\n",
       "      <td>15800</td>\n",
       "      <td>15300</td>\n",
       "      <td>15716.685922</td>\n",
       "      <td>-416.685922</td>\n",
       "    </tr>\n",
       "    <tr>\n",
       "      <th>3</th>\n",
       "      <td>01.10.23</td>\n",
       "      <td>16100</td>\n",
       "      <td>16200</td>\n",
       "      <td>15912.460802</td>\n",
       "      <td>287.539198</td>\n",
       "    </tr>\n",
       "    <tr>\n",
       "      <th>4</th>\n",
       "      <td>01.09.23</td>\n",
       "      <td>16300</td>\n",
       "      <td>15700</td>\n",
       "      <td>16042.977389</td>\n",
       "      <td>-342.977389</td>\n",
       "    </tr>\n",
       "    <tr>\n",
       "      <th>5</th>\n",
       "      <td>01.08.23</td>\n",
       "      <td>16800</td>\n",
       "      <td>16400</td>\n",
       "      <td>16369.268856</td>\n",
       "      <td>30.731144</td>\n",
       "    </tr>\n",
       "    <tr>\n",
       "      <th>6</th>\n",
       "      <td>01.07.23</td>\n",
       "      <td>15900</td>\n",
       "      <td>16200</td>\n",
       "      <td>15781.944215</td>\n",
       "      <td>418.055785</td>\n",
       "    </tr>\n",
       "    <tr>\n",
       "      <th>7</th>\n",
       "      <td>01.06.23</td>\n",
       "      <td>15800</td>\n",
       "      <td>15500</td>\n",
       "      <td>15716.685922</td>\n",
       "      <td>-216.685922</td>\n",
       "    </tr>\n",
       "    <tr>\n",
       "      <th>8</th>\n",
       "      <td>01.05.23</td>\n",
       "      <td>16150</td>\n",
       "      <td>16100</td>\n",
       "      <td>15945.089949</td>\n",
       "      <td>154.910051</td>\n",
       "    </tr>\n",
       "    <tr>\n",
       "      <th>9</th>\n",
       "      <td>01.04.23</td>\n",
       "      <td>16300</td>\n",
       "      <td>15800</td>\n",
       "      <td>16042.977389</td>\n",
       "      <td>-242.977389</td>\n",
       "    </tr>\n",
       "    <tr>\n",
       "      <th>10</th>\n",
       "      <td>01.03.23</td>\n",
       "      <td>16200</td>\n",
       "      <td>16200</td>\n",
       "      <td>15977.719096</td>\n",
       "      <td>222.280904</td>\n",
       "    </tr>\n",
       "    <tr>\n",
       "      <th>11</th>\n",
       "      <td>01.02.23</td>\n",
       "      <td>16300</td>\n",
       "      <td>15700</td>\n",
       "      <td>16042.977389</td>\n",
       "      <td>-342.977389</td>\n",
       "    </tr>\n",
       "  </tbody>\n",
       "</table>\n",
       "</div>"
      ],
      "text/plain": [
       "        Date  Starting (USD)  Ending (USD)   predicted_y        Loss\n",
       "0   01.01.24           16800         16500  16369.268856  130.731144\n",
       "1   01.12.23           15900         16100  15781.944215  318.055785\n",
       "2   01.11.23           15800         15300  15716.685922 -416.685922\n",
       "3   01.10.23           16100         16200  15912.460802  287.539198\n",
       "4   01.09.23           16300         15700  16042.977389 -342.977389\n",
       "5   01.08.23           16800         16400  16369.268856   30.731144\n",
       "6   01.07.23           15900         16200  15781.944215  418.055785\n",
       "7   01.06.23           15800         15500  15716.685922 -216.685922\n",
       "8   01.05.23           16150         16100  15945.089949  154.910051\n",
       "9   01.04.23           16300         15800  16042.977389 -242.977389\n",
       "10  01.03.23           16200         16200  15977.719096  222.280904\n",
       "11  01.02.23           16300         15700  16042.977389 -342.977389"
      ]
     },
     "execution_count": 20,
     "metadata": {},
     "output_type": "execute_result"
    }
   ],
   "source": [
    "df['Loss'] = df['Ending (USD)'] - df['predicted_y']\n",
    "df"
   ]
  },
  {
   "cell_type": "code",
   "execution_count": 21,
   "id": "MlerTBLJHl9R",
   "metadata": {
    "id": "MlerTBLJHl9R"
   },
   "outputs": [],
   "source": [
    "# MSE\n",
    "from sklearn.metrics import mean_squared_error"
   ]
  },
  {
   "cell_type": "code",
   "execution_count": 22,
   "id": "DRhTKG9GIOIc",
   "metadata": {
    "colab": {
     "base_uri": "https://localhost:8080/"
    },
    "executionInfo": {
     "elapsed": 359,
     "status": "ok",
     "timestamp": 1739601919395,
     "user": {
      "displayName": "Sudipto Dey Himel (222-115-201)",
      "userId": "06301295033781781722"
     },
     "user_tz": -360
    },
    "id": "DRhTKG9GIOIc",
    "outputId": "4cfb71d1-3e0d-4690-9dba-15c7423e0b30"
   },
   "outputs": [
    {
     "data": {
      "text/plain": [
       "80411.23397700385"
      ]
     },
     "execution_count": 22,
     "metadata": {},
     "output_type": "execute_result"
    }
   ],
   "source": [
    "# Calculate Mean Square Error\n",
    "mse = mean_squared_error(df['Ending (USD)'], df['predicted_y'])\n",
    "mse"
   ]
  },
  {
   "cell_type": "markdown",
   "id": "-iilBAqtJGyl",
   "metadata": {
    "id": "-iilBAqtJGyl"
   },
   "source": [
    "## *Performance / Accuracy*"
   ]
  },
  {
   "cell_type": "markdown",
   "id": "FYVLKNz7Mtkb",
   "metadata": {
    "id": "FYVLKNz7Mtkb"
   },
   "source": [
    "i. using score() function\n",
    "\n",
    "use x and y"
   ]
  },
  {
   "cell_type": "code",
   "execution_count": 23,
   "id": "NERkad-dJJmx",
   "metadata": {
    "colab": {
     "base_uri": "https://localhost:8080/"
    },
    "executionInfo": {
     "elapsed": 341,
     "status": "ok",
     "timestamp": 1739601922257,
     "user": {
      "displayName": "Sudipto Dey Himel (222-115-201)",
      "userId": "06301295033781781722"
     },
     "user_tz": -360
    },
    "id": "NERkad-dJJmx",
    "outputId": "12c2776b-7cfc-4a5d-e666-bd5502c562d5"
   },
   "outputs": [
    {
     "data": {
      "text/plain": [
       "0.3577804940272571"
      ]
     },
     "execution_count": 23,
     "metadata": {},
     "output_type": "execute_result"
    }
   ],
   "source": [
    "reg.score(x, y)"
   ]
  },
  {
   "cell_type": "markdown",
   "id": "U21-1wtUM1Az",
   "metadata": {
    "id": "U21-1wtUM1Az"
   },
   "source": [
    "ii. using R-Squared Method(use actua_y and predicted_y)\n",
    "\n",
    "Value of R-Squared range [0, 1]\n",
    "\n",
    "Formula:\n",
    "\n",
    "![image.png](data:image/png;base64,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)\n"
   ]
  },
  {
   "cell_type": "code",
   "execution_count": 24,
   "id": "L56ZS1RkTBYN",
   "metadata": {
    "colab": {
     "base_uri": "https://localhost:8080/"
    },
    "executionInfo": {
     "elapsed": 345,
     "status": "ok",
     "timestamp": 1739601925417,
     "user": {
      "displayName": "Sudipto Dey Himel (222-115-201)",
      "userId": "06301295033781781722"
     },
     "user_tz": -360
    },
    "id": "L56ZS1RkTBYN",
    "outputId": "eb39b9c8-0697-4bdc-cfbf-22df820e8d1c"
   },
   "outputs": [
    {
     "data": {
      "text/plain": [
       "0.3577804940272571"
      ]
     },
     "execution_count": 24,
     "metadata": {},
     "output_type": "execute_result"
    }
   ],
   "source": [
    "# Calculating R-squared\n",
    "\n",
    "from sklearn.metrics import r2_score\n",
    "r2_score(y, reg.predict(x))"
   ]
  }
 ],
 "metadata": {
  "colab": {
   "provenance": []
  },
  "kernelspec": {
   "display_name": "Python 3",
   "language": "python",
   "name": "python3"
  },
  "language_info": {
   "codemirror_mode": {
    "name": "ipython",
    "version": 3
   },
   "file_extension": ".py",
   "mimetype": "text/x-python",
   "name": "python",
   "nbconvert_exporter": "python",
   "pygments_lexer": "ipython3",
   "version": "3.12.5"
  }
 },
 "nbformat": 4,
 "nbformat_minor": 5
}
